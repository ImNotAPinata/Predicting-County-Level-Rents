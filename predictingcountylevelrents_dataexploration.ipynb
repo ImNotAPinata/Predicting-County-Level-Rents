{
 "cells": [
  {
   "cell_type": "code",
   "execution_count": 1,
   "metadata": {},
   "outputs": [],
   "source": [
    "import pandas as pd\n",
    "import matplotlib.pyplot as plt\n",
    "import seaborn as sns\n",
    "import numpy as np\n",
    "import numpy.random as nr\n",
    "import math\n",
    "import sklearn.model_selection as ms\n",
    "\n",
    "from sklearn import preprocessing\n",
    "import sklearn.model_selection as ms\n",
    "from sklearn import linear_model\n",
    "import sklearn.metrics as sklm"
   ]
  },
  {
   "cell_type": "code",
   "execution_count": 2,
   "metadata": {},
   "outputs": [
    {
     "data": {
      "text/html": [
       "<div>\n",
       "<style scoped>\n",
       "    .dataframe tbody tr th:only-of-type {\n",
       "        vertical-align: middle;\n",
       "    }\n",
       "\n",
       "    .dataframe tbody tr th {\n",
       "        vertical-align: top;\n",
       "    }\n",
       "\n",
       "    .dataframe thead th {\n",
       "        text-align: right;\n",
       "    }\n",
       "</style>\n",
       "<table border=\"1\" class=\"dataframe\">\n",
       "  <thead>\n",
       "    <tr style=\"text-align: right;\">\n",
       "      <th></th>\n",
       "      <th>row_id</th>\n",
       "      <th>gross_rent</th>\n",
       "    </tr>\n",
       "  </thead>\n",
       "  <tbody>\n",
       "    <tr>\n",
       "      <th>0</th>\n",
       "      <td>0</td>\n",
       "      <td>577</td>\n",
       "    </tr>\n",
       "    <tr>\n",
       "      <th>1</th>\n",
       "      <td>1</td>\n",
       "      <td>844</td>\n",
       "    </tr>\n",
       "    <tr>\n",
       "      <th>2</th>\n",
       "      <td>2</td>\n",
       "      <td>700</td>\n",
       "    </tr>\n",
       "    <tr>\n",
       "      <th>3</th>\n",
       "      <td>3</td>\n",
       "      <td>592</td>\n",
       "    </tr>\n",
       "    <tr>\n",
       "      <th>4</th>\n",
       "      <td>4</td>\n",
       "      <td>444</td>\n",
       "    </tr>\n",
       "  </tbody>\n",
       "</table>\n",
       "</div>"
      ],
      "text/plain": [
       "   row_id  gross_rent\n",
       "0       0         577\n",
       "1       1         844\n",
       "2       2         700\n",
       "3       3         592\n",
       "4       4         444"
      ]
     },
     "execution_count": 2,
     "metadata": {},
     "output_type": "execute_result"
    }
   ],
   "source": [
    "#Read Data Source\n",
    "train_values = pd.read_csv('train_values_OL27nta.csv')\n",
    "train_values.head(5)\n",
    "\n",
    "train_labels = pd.read_csv('train_labels_DPetPH2.csv')\n",
    "train_labels.head(5)"
   ]
  },
  {
   "cell_type": "code",
   "execution_count": 3,
   "metadata": {},
   "outputs": [
    {
     "name": "stdout",
     "output_type": "stream",
     "text": [
      "There are 5 categorical variables\n",
      "['county_code', 'state', 'rucc', 'urban_influence', 'economic_typology']\n",
      "There are 41 numerical variables. This includes boolean values\n",
      "There are 0 boolean variables\n",
      "There are 41 numerical variables\n",
      "There are 0 discrete variables\n",
      "['population', 'renter_occupied_households', 'pct_renter_occupied', 'evictions', 'rent_burden', 'pct_white', 'pct_af_am', 'pct_hispanic', 'pct_am_ind', 'pct_asian', 'pct_nh_pi', 'pct_multiple', 'pct_other', 'poverty_rate', 'pct_civilian_labor', 'pct_unemployment', 'pct_uninsured_adults', 'pct_uninsured_children', 'pct_adult_obesity', 'pct_adult_smoking', 'pct_diabetes', 'pct_low_birthweight', 'pct_excessive_drinking', 'pct_physical_inactivity', 'air_pollution_particulate_matter_value', 'homicides_per_100k', 'motor_vehicle_crash_deaths_per_100k', 'heart_disease_mortality_per_100k', 'pop_per_dentist', 'pop_per_primary_care_physician', 'pct_female', 'pct_below_18_years_of_age', 'pct_aged_65_years_and_older', 'pct_adults_less_than_a_high_school_diploma', 'pct_adults_with_high_school_diploma', 'pct_adults_with_some_college', 'pct_adults_bachelors_or_higher', 'birth_rate_per_1k', 'death_rate_per_1k']\n",
      "evictions 0.209  % missing values\n",
      "pct_uninsured_adults 0.001  % missing values\n",
      "pct_uninsured_children 0.001  % missing values\n",
      "pct_adult_obesity 0.001  % missing values\n",
      "pct_adult_smoking 0.14  % missing values\n",
      "pct_diabetes 0.001  % missing values\n",
      "pct_low_birthweight 0.074  % missing values\n",
      "pct_excessive_drinking 0.296  % missing values\n",
      "pct_physical_inactivity 0.001  % missing values\n",
      "air_pollution_particulate_matter_value 0.013  % missing values\n",
      "homicides_per_100k 0.608  % missing values\n",
      "motor_vehicle_crash_deaths_per_100k 0.122  % missing values\n",
      "pop_per_dentist 0.074  % missing values\n",
      "pop_per_primary_care_physician 0.073  % missing values\n",
      "pct_female 0.001  % missing values\n",
      "pct_below_18_years_of_age 0.001  % missing values\n",
      "pct_aged_65_years_and_older 0.001  % missing values\n",
      "county_code contains 1562 labels\n",
      "state contains 50 labels\n",
      "rucc contains 9 labels\n",
      "urban_influence contains 12 labels\n",
      "economic_typology contains 6 labels\n"
     ]
    },
    {
     "data": {
      "text/html": [
       "<div>\n",
       "<style scoped>\n",
       "    .dataframe tbody tr th:only-of-type {\n",
       "        vertical-align: middle;\n",
       "    }\n",
       "\n",
       "    .dataframe tbody tr th {\n",
       "        vertical-align: top;\n",
       "    }\n",
       "\n",
       "    .dataframe thead th {\n",
       "        text-align: right;\n",
       "    }\n",
       "</style>\n",
       "<table border=\"1\" class=\"dataframe\">\n",
       "  <thead>\n",
       "    <tr style=\"text-align: right;\">\n",
       "      <th></th>\n",
       "      <th>row_id</th>\n",
       "      <th>population</th>\n",
       "      <th>renter_occupied_households</th>\n",
       "      <th>pct_renter_occupied</th>\n",
       "      <th>evictions</th>\n",
       "      <th>rent_burden</th>\n",
       "      <th>pct_white</th>\n",
       "      <th>pct_af_am</th>\n",
       "      <th>pct_hispanic</th>\n",
       "      <th>pct_am_ind</th>\n",
       "      <th>...</th>\n",
       "      <th>pct_female</th>\n",
       "      <th>pct_below_18_years_of_age</th>\n",
       "      <th>pct_aged_65_years_and_older</th>\n",
       "      <th>pct_adults_less_than_a_high_school_diploma</th>\n",
       "      <th>pct_adults_with_high_school_diploma</th>\n",
       "      <th>pct_adults_with_some_college</th>\n",
       "      <th>pct_adults_bachelors_or_higher</th>\n",
       "      <th>birth_rate_per_1k</th>\n",
       "      <th>death_rate_per_1k</th>\n",
       "      <th>gross_rent</th>\n",
       "    </tr>\n",
       "  </thead>\n",
       "  <tbody>\n",
       "    <tr>\n",
       "      <th>count</th>\n",
       "      <td>1562.000000</td>\n",
       "      <td>1.562000e+03</td>\n",
       "      <td>1.562000e+03</td>\n",
       "      <td>1562.000000</td>\n",
       "      <td>1235.000000</td>\n",
       "      <td>1562.000000</td>\n",
       "      <td>1562.000000</td>\n",
       "      <td>1562.000000</td>\n",
       "      <td>1562.000000</td>\n",
       "      <td>1562.000000</td>\n",
       "      <td>...</td>\n",
       "      <td>1560.000000</td>\n",
       "      <td>1560.000000</td>\n",
       "      <td>1560.000000</td>\n",
       "      <td>1562.000000</td>\n",
       "      <td>1562.000000</td>\n",
       "      <td>1562.000000</td>\n",
       "      <td>1562.000000</td>\n",
       "      <td>1562.000000</td>\n",
       "      <td>1562.000000</td>\n",
       "      <td>1562.000000</td>\n",
       "    </tr>\n",
       "    <tr>\n",
       "      <th>mean</th>\n",
       "      <td>780.500000</td>\n",
       "      <td>1.083407e+05</td>\n",
       "      <td>1.490462e+04</td>\n",
       "      <td>28.525570</td>\n",
       "      <td>397.410526</td>\n",
       "      <td>28.537526</td>\n",
       "      <td>0.769045</td>\n",
       "      <td>0.088593</td>\n",
       "      <td>0.092012</td>\n",
       "      <td>0.018431</td>\n",
       "      <td>...</td>\n",
       "      <td>0.499388</td>\n",
       "      <td>0.228672</td>\n",
       "      <td>0.167707</td>\n",
       "      <td>0.145666</td>\n",
       "      <td>0.346271</td>\n",
       "      <td>0.303030</td>\n",
       "      <td>0.205033</td>\n",
       "      <td>11.621356</td>\n",
       "      <td>10.415138</td>\n",
       "      <td>701.142125</td>\n",
       "    </tr>\n",
       "    <tr>\n",
       "      <th>std</th>\n",
       "      <td>451.054875</td>\n",
       "      <td>3.745229e+05</td>\n",
       "      <td>6.255947e+04</td>\n",
       "      <td>8.121601</td>\n",
       "      <td>1522.801074</td>\n",
       "      <td>4.670467</td>\n",
       "      <td>0.203306</td>\n",
       "      <td>0.143505</td>\n",
       "      <td>0.141599</td>\n",
       "      <td>0.074762</td>\n",
       "      <td>...</td>\n",
       "      <td>0.023933</td>\n",
       "      <td>0.034732</td>\n",
       "      <td>0.044555</td>\n",
       "      <td>0.067483</td>\n",
       "      <td>0.071152</td>\n",
       "      <td>0.052236</td>\n",
       "      <td>0.092001</td>\n",
       "      <td>2.756009</td>\n",
       "      <td>2.772070</td>\n",
       "      <td>192.883110</td>\n",
       "    </tr>\n",
       "    <tr>\n",
       "      <th>min</th>\n",
       "      <td>0.000000</td>\n",
       "      <td>2.690000e+02</td>\n",
       "      <td>6.400000e+01</td>\n",
       "      <td>7.279000</td>\n",
       "      <td>-1.000000</td>\n",
       "      <td>9.909000</td>\n",
       "      <td>0.009547</td>\n",
       "      <td>0.000000</td>\n",
       "      <td>0.000000</td>\n",
       "      <td>0.000000</td>\n",
       "      <td>...</td>\n",
       "      <td>0.314000</td>\n",
       "      <td>0.082000</td>\n",
       "      <td>0.036000</td>\n",
       "      <td>0.019000</td>\n",
       "      <td>0.074297</td>\n",
       "      <td>0.114458</td>\n",
       "      <td>0.064128</td>\n",
       "      <td>3.654080</td>\n",
       "      <td>0.961076</td>\n",
       "      <td>351.000000</td>\n",
       "    </tr>\n",
       "    <tr>\n",
       "      <th>25%</th>\n",
       "      <td>390.250000</td>\n",
       "      <td>1.045275e+04</td>\n",
       "      <td>1.078250e+03</td>\n",
       "      <td>22.874000</td>\n",
       "      <td>3.000000</td>\n",
       "      <td>25.869000</td>\n",
       "      <td>0.649967</td>\n",
       "      <td>0.005523</td>\n",
       "      <td>0.018747</td>\n",
       "      <td>0.001201</td>\n",
       "      <td>...</td>\n",
       "      <td>0.495000</td>\n",
       "      <td>0.208000</td>\n",
       "      <td>0.140000</td>\n",
       "      <td>0.094226</td>\n",
       "      <td>0.300601</td>\n",
       "      <td>0.269461</td>\n",
       "      <td>0.142142</td>\n",
       "      <td>10.014818</td>\n",
       "      <td>8.613691</td>\n",
       "      <td>578.000000</td>\n",
       "    </tr>\n",
       "    <tr>\n",
       "      <th>50%</th>\n",
       "      <td>780.500000</td>\n",
       "      <td>2.528200e+04</td>\n",
       "      <td>2.754000e+03</td>\n",
       "      <td>27.199500</td>\n",
       "      <td>27.000000</td>\n",
       "      <td>28.768000</td>\n",
       "      <td>0.846542</td>\n",
       "      <td>0.020599</td>\n",
       "      <td>0.037613</td>\n",
       "      <td>0.002610</td>\n",
       "      <td>...</td>\n",
       "      <td>0.504000</td>\n",
       "      <td>0.227000</td>\n",
       "      <td>0.164000</td>\n",
       "      <td>0.129388</td>\n",
       "      <td>0.352176</td>\n",
       "      <td>0.303303</td>\n",
       "      <td>0.182365</td>\n",
       "      <td>11.435441</td>\n",
       "      <td>10.396898</td>\n",
       "      <td>650.000000</td>\n",
       "    </tr>\n",
       "    <tr>\n",
       "      <th>75%</th>\n",
       "      <td>1170.750000</td>\n",
       "      <td>6.836150e+04</td>\n",
       "      <td>7.987000e+03</td>\n",
       "      <td>32.341500</td>\n",
       "      <td>162.500000</td>\n",
       "      <td>31.307250</td>\n",
       "      <td>0.933479</td>\n",
       "      <td>0.102047</td>\n",
       "      <td>0.092998</td>\n",
       "      <td>0.006121</td>\n",
       "      <td>...</td>\n",
       "      <td>0.511000</td>\n",
       "      <td>0.246000</td>\n",
       "      <td>0.191000</td>\n",
       "      <td>0.187719</td>\n",
       "      <td>0.396556</td>\n",
       "      <td>0.337672</td>\n",
       "      <td>0.241234</td>\n",
       "      <td>12.940235</td>\n",
       "      <td>12.250655</td>\n",
       "      <td>773.750000</td>\n",
       "    </tr>\n",
       "    <tr>\n",
       "      <th>max</th>\n",
       "      <td>1561.000000</td>\n",
       "      <td>1.002029e+07</td>\n",
       "      <td>1.760277e+06</td>\n",
       "      <td>73.008000</td>\n",
       "      <td>29251.000000</td>\n",
       "      <td>49.665000</td>\n",
       "      <td>0.995141</td>\n",
       "      <td>0.756011</td>\n",
       "      <td>0.987039</td>\n",
       "      <td>0.815817</td>\n",
       "      <td>...</td>\n",
       "      <td>0.564000</td>\n",
       "      <td>0.415000</td>\n",
       "      <td>0.488000</td>\n",
       "      <td>0.535750</td>\n",
       "      <td>0.535536</td>\n",
       "      <td>0.477341</td>\n",
       "      <td>0.788153</td>\n",
       "      <td>29.034900</td>\n",
       "      <td>24.281150</td>\n",
       "      <td>1827.000000</td>\n",
       "    </tr>\n",
       "  </tbody>\n",
       "</table>\n",
       "<p>8 rows × 41 columns</p>\n",
       "</div>"
      ],
      "text/plain": [
       "            row_id    population  renter_occupied_households  \\\n",
       "count  1562.000000  1.562000e+03                1.562000e+03   \n",
       "mean    780.500000  1.083407e+05                1.490462e+04   \n",
       "std     451.054875  3.745229e+05                6.255947e+04   \n",
       "min       0.000000  2.690000e+02                6.400000e+01   \n",
       "25%     390.250000  1.045275e+04                1.078250e+03   \n",
       "50%     780.500000  2.528200e+04                2.754000e+03   \n",
       "75%    1170.750000  6.836150e+04                7.987000e+03   \n",
       "max    1561.000000  1.002029e+07                1.760277e+06   \n",
       "\n",
       "       pct_renter_occupied     evictions  rent_burden    pct_white  \\\n",
       "count          1562.000000   1235.000000  1562.000000  1562.000000   \n",
       "mean             28.525570    397.410526    28.537526     0.769045   \n",
       "std               8.121601   1522.801074     4.670467     0.203306   \n",
       "min               7.279000     -1.000000     9.909000     0.009547   \n",
       "25%              22.874000      3.000000    25.869000     0.649967   \n",
       "50%              27.199500     27.000000    28.768000     0.846542   \n",
       "75%              32.341500    162.500000    31.307250     0.933479   \n",
       "max              73.008000  29251.000000    49.665000     0.995141   \n",
       "\n",
       "         pct_af_am  pct_hispanic   pct_am_ind     ...        pct_female  \\\n",
       "count  1562.000000   1562.000000  1562.000000     ...       1560.000000   \n",
       "mean      0.088593      0.092012     0.018431     ...          0.499388   \n",
       "std       0.143505      0.141599     0.074762     ...          0.023933   \n",
       "min       0.000000      0.000000     0.000000     ...          0.314000   \n",
       "25%       0.005523      0.018747     0.001201     ...          0.495000   \n",
       "50%       0.020599      0.037613     0.002610     ...          0.504000   \n",
       "75%       0.102047      0.092998     0.006121     ...          0.511000   \n",
       "max       0.756011      0.987039     0.815817     ...          0.564000   \n",
       "\n",
       "       pct_below_18_years_of_age  pct_aged_65_years_and_older  \\\n",
       "count                1560.000000                  1560.000000   \n",
       "mean                    0.228672                     0.167707   \n",
       "std                     0.034732                     0.044555   \n",
       "min                     0.082000                     0.036000   \n",
       "25%                     0.208000                     0.140000   \n",
       "50%                     0.227000                     0.164000   \n",
       "75%                     0.246000                     0.191000   \n",
       "max                     0.415000                     0.488000   \n",
       "\n",
       "       pct_adults_less_than_a_high_school_diploma  \\\n",
       "count                                 1562.000000   \n",
       "mean                                     0.145666   \n",
       "std                                      0.067483   \n",
       "min                                      0.019000   \n",
       "25%                                      0.094226   \n",
       "50%                                      0.129388   \n",
       "75%                                      0.187719   \n",
       "max                                      0.535750   \n",
       "\n",
       "       pct_adults_with_high_school_diploma  pct_adults_with_some_college  \\\n",
       "count                          1562.000000                   1562.000000   \n",
       "mean                              0.346271                      0.303030   \n",
       "std                               0.071152                      0.052236   \n",
       "min                               0.074297                      0.114458   \n",
       "25%                               0.300601                      0.269461   \n",
       "50%                               0.352176                      0.303303   \n",
       "75%                               0.396556                      0.337672   \n",
       "max                               0.535536                      0.477341   \n",
       "\n",
       "       pct_adults_bachelors_or_higher  birth_rate_per_1k  death_rate_per_1k  \\\n",
       "count                     1562.000000        1562.000000        1562.000000   \n",
       "mean                         0.205033          11.621356          10.415138   \n",
       "std                          0.092001           2.756009           2.772070   \n",
       "min                          0.064128           3.654080           0.961076   \n",
       "25%                          0.142142          10.014818           8.613691   \n",
       "50%                          0.182365          11.435441          10.396898   \n",
       "75%                          0.241234          12.940235          12.250655   \n",
       "max                          0.788153          29.034900          24.281150   \n",
       "\n",
       "        gross_rent  \n",
       "count  1562.000000  \n",
       "mean    701.142125  \n",
       "std     192.883110  \n",
       "min     351.000000  \n",
       "25%     578.000000  \n",
       "50%     650.000000  \n",
       "75%     773.750000  \n",
       "max    1827.000000  \n",
       "\n",
       "[8 rows x 41 columns]"
      ]
     },
     "execution_count": 3,
     "metadata": {},
     "output_type": "execute_result"
    }
   ],
   "source": [
    "#Data Analysis\n",
    "\n",
    "train = train_values.merge(train_labels,on='row_id')\n",
    "train.head(5)\n",
    "train.shape\n",
    "\n",
    "\n",
    "\n",
    "#get categorical\n",
    "categorical = [var for var in train.columns if train[var].dtype=='O']\n",
    "print('There are {} categorical variables'.format(len(categorical)))\n",
    "\n",
    "\n",
    "#categorical\n",
    "print(categorical)\n",
    "\n",
    "\n",
    "#numerical_bool\n",
    "numerical_boolean = [var for var in train.columns if train[var].dtype!='O']\n",
    "print('There are {} numerical variables. This includes boolean values'.format(len(numerical_boolean)))\n",
    "\n",
    "#boolean\n",
    "boolean = [var for var in train.columns if train[var].dtype=='?']\n",
    "print('There are {} boolean variables'.format(len(boolean)))\n",
    "\n",
    "#numerical\n",
    "numerical = [var for var in train[numerical_boolean] if var not in boolean]\n",
    "print('There are {} numerical variables'.format(len(numerical)))\n",
    "\n",
    "#discrete\n",
    "discrete = []\n",
    "for var in numerical:\n",
    "    if len(train[var].unique())<20:\n",
    "        print(var, ' values: ', train[var].unique())\n",
    "        discrete.append(var)\n",
    "        \n",
    "print('There are {} discrete variables'.format(len(discrete)))\n",
    "\n",
    "#continuous\n",
    "continuous = [var for var in numerical if var not in discrete and var not in ['row_id', 'gross_rent']]\n",
    "print(continuous)\n",
    "\n",
    "\n",
    "# make a list of the variables that contain missing values\n",
    "vars_with_na = [var for var in train.columns if train[var].isnull().sum()>1]\n",
    "\n",
    "# print the variable name and the percentage of missing values\n",
    "for var in vars_with_na:\n",
    "    print(var, np.round(train[var].isnull().mean(), 3),  ' % missing values')\n",
    "\n",
    "\n",
    "\n",
    "for var in categorical:\n",
    "    print(var, 'contains', len(train[var].unique()), 'labels')\n",
    "\n",
    "\n",
    "for var in discrete:\n",
    "    print(var, 'contains', len(train[var].unique()), 'labels')\n",
    "\n",
    "\n",
    "train.describe()    "
   ]
  },
  {
   "cell_type": "code",
   "execution_count": 4,
   "metadata": {},
   "outputs": [
    {
     "data": {
      "image/png": "[encoded data removed]",
      "text/plain": [
       "<Figure size 864x504 with 1 Axes>"
      ]
     },
     "metadata": {
      "needs_background": "light"
     },
     "output_type": "display_data"
    }
   ],
   "source": [
    "plt.figure(figsize=(12,7))\n",
    "fig = train.gross_rent.hist(bins=20)\n",
    "fig.set_title('Histogram of gross_rent')\n",
    "fig.set_ylabel('Frequency')\n",
    "plt.show()"
   ]
  },
  {
   "cell_type": "code",
   "execution_count": 5,
   "metadata": {},
   "outputs": [
    {
     "data": {
      "image/png": "[encoded data removed]",
      "text/plain": [
       "<Figure size 432x288 with 1 Axes>"
      ]
     },
     "metadata": {
      "needs_background": "light"
     },
     "output_type": "display_data"
    },
    {
     "data": {
      "image/png": "[encoded data removed]",
      "text/plain": [
       "<Figure size 432x288 with 1 Axes>"
      ]
     },
     "metadata": {
      "needs_background": "light"
     },
     "output_type": "display_data"
    },
    {
     "data": {
      "image/png": "[encoded data removed]",
      "text/plain": [
       "<Figure size 432x288 with 1 Axes>"
      ]
     },
     "metadata": {
      "needs_background": "light"
     },
     "output_type": "display_data"
    },
    {
     "data": {
      "image/png": "[encoded data removed]",
      "text/plain": [
       "<Figure size 432x288 with 1 Axes>"
      ]
     },
     "metadata": {
      "needs_background": "light"
     },
     "output_type": "display_data"
    },
    {
     "data": {
      "image/png": "[encoded data removed]",
      "text/plain": [
       "<Figure size 432x288 with 1 Axes>"
      ]
     },
     "metadata": {
      "needs_background": "light"
     },
     "output_type": "display_data"
    },
    {
     "data": {
      "image/png": "[encoded data removed]",
      "text/plain": [
       "<Figure size 432x288 with 1 Axes>"
      ]
     },
     "metadata": {
      "needs_background": "light"
     },
     "output_type": "display_data"
    },
    {
     "data": {
      "image/png": "[encoded data removed]",
      "text/plain": [
       "<Figure size 432x288 with 1 Axes>"
      ]
     },
     "metadata": {
      "needs_background": "light"
     },
     "output_type": "display_data"
    },
    {
     "data": {
      "image/png": "[encoded data removed]",
      "text/plain": [
       "<Figure size 432x288 with 1 Axes>"
      ]
     },
     "metadata": {
      "needs_background": "light"
     },
     "output_type": "display_data"
    },
    {
     "data": {
      "image/png": "[encoded data removed]",
      "text/plain": [
       "<Figure size 432x288 with 1 Axes>"
      ]
     },
     "metadata": {
      "needs_background": "light"
     },
     "output_type": "display_data"
    },
    {
     "data": {
      "image/png": "[encoded data removed]",
      "text/plain": [
       "<Figure size 432x288 with 1 Axes>"
      ]
     },
     "metadata": {
      "needs_background": "light"
     },
     "output_type": "display_data"
    },
    {
     "data": {
      "image/png": "[encoded data removed]",
      "text/plain": [
       "<Figure size 432x288 with 1 Axes>"
      ]
     },
     "metadata": {
      "needs_background": "light"
     },
     "output_type": "display_data"
    },
    {
     "data": {
      "image/png": "[encoded data removed]",
      "text/plain": [
       "<Figure size 432x288 with 1 Axes>"
      ]
     },
     "metadata": {
      "needs_background": "light"
     },
     "output_type": "display_data"
    },
    {
     "data": {
      "image/png": "[encoded data removed]",
      "text/plain": [
       "<Figure size 432x288 with 1 Axes>"
      ]
     },
     "metadata": {
      "needs_background": "light"
     },
     "output_type": "display_data"
    },
    {
     "data": {
      "image/png": "[encoded data removed]",
      "text/plain": [
       "<Figure size 432x288 with 1 Axes>"
      ]
     },
     "metadata": {
      "needs_background": "light"
     },
     "output_type": "display_data"
    },
    {
     "data": {
      "image/png": "[encoded data removed]",
      "text/plain": [
       "<Figure size 432x288 with 1 Axes>"
      ]
     },
     "metadata": {
      "needs_background": "light"
     },
     "output_type": "display_data"
    },
    {
     "data": {
      "image/png": "[encoded data removed]",
      "text/plain": [
       "<Figure size 432x288 with 1 Axes>"
      ]
     },
     "metadata": {
      "needs_background": "light"
     },
     "output_type": "display_data"
    },
    {
     "data": {
      "image/png": "[encoded data removed]",
      "text/plain": [
       "<Figure size 432x288 with 1 Axes>"
      ]
     },
     "metadata": {
      "needs_background": "light"
     },
     "output_type": "display_data"
    }
   ],
   "source": [
    "def analyse_na_value(df, var):\n",
    "    df = df.copy()\n",
    "    \n",
    "    # let's make a variable that indicates 1 if the observation was missing or zero otherwise\n",
    "    df[var] = np.where(df[var].isnull(), 1, 0)\n",
    "    \n",
    "    # let's calculate the mean Poverty Probability where the information is missing or present\n",
    "    df.groupby(var)['gross_rent'].median().plot.bar()\n",
    "    plt.title(var)\n",
    "    plt.show()\n",
    "    \n",
    "for var in vars_with_na:\n",
    "    analyse_na_value(train, var)\n"
   ]
  },
  {
   "cell_type": "code",
   "execution_count": 6,
   "metadata": {},
   "outputs": [
    {
     "data": {
      "text/plain": [
       "650.0"
      ]
     },
     "execution_count": 6,
     "metadata": {},
     "output_type": "execute_result"
    }
   ],
   "source": [
    "train.gross_rent.median()"
   ]
  },
  {
   "cell_type": "code",
   "execution_count": 7,
   "metadata": {},
   "outputs": [
    {
     "data": {
      "text/plain": [
       "701"
      ]
     },
     "execution_count": 7,
     "metadata": {},
     "output_type": "execute_result"
    }
   ],
   "source": [
    "round(train.gross_rent.mean())"
   ]
  },
  {
   "cell_type": "code",
   "execution_count": 8,
   "metadata": {},
   "outputs": [
    {
     "data": {
      "text/plain": [
       "193"
      ]
     },
     "execution_count": 8,
     "metadata": {},
     "output_type": "execute_result"
    }
   ],
   "source": [
    "round(train.gross_rent.std())"
   ]
  },
  {
   "cell_type": "code",
   "execution_count": 9,
   "metadata": {
    "scrolled": false
   },
   "outputs": [
    {
     "data": {
      "text/plain": [
       "population                                    0.398343\n",
       "renter_occupied_households                    0.345154\n",
       "pct_renter_occupied                           0.278613\n",
       "evictions                                     0.325653\n",
       "rent_burden                                   0.237213\n",
       "pct_white                                    -0.226985\n",
       "pct_af_am                                     0.016147\n",
       "pct_hispanic                                  0.170457\n",
       "pct_am_ind                                   -0.017942\n",
       "pct_asian                                     0.592077\n",
       "pct_nh_pi                                     0.201375\n",
       "pct_multiple                                  0.255977\n",
       "pct_other                                     0.338445\n",
       "poverty_rate                                 -0.352548\n",
       "pct_civilian_labor                            0.244298\n",
       "pct_unemployment                             -0.094240\n",
       "pct_uninsured_adults                         -0.163290\n",
       "pct_uninsured_children                       -0.070668\n",
       "pct_adult_obesity                            -0.470499\n",
       "pct_adult_smoking                            -0.309210\n",
       "pct_diabetes                                 -0.437765\n",
       "pct_low_birthweight                          -0.177053\n",
       "pct_excessive_drinking                        0.116448\n",
       "pct_physical_inactivity                      -0.578790\n",
       "air_pollution_particulate_matter_value       -0.091971\n",
       "homicides_per_100k                           -0.337219\n",
       "motor_vehicle_crash_deaths_per_100k          -0.500361\n",
       "heart_disease_mortality_per_100k             -0.426475\n",
       "pop_per_dentist                              -0.286822\n",
       "pop_per_primary_care_physician               -0.229297\n",
       "pct_female                                    0.048211\n",
       "pct_below_18_years_of_age                     0.046221\n",
       "pct_aged_65_years_and_older                  -0.386705\n",
       "pct_adults_less_than_a_high_school_diploma   -0.306608\n",
       "pct_adults_with_high_school_diploma          -0.601540\n",
       "pct_adults_with_some_college                  0.019414\n",
       "pct_adults_bachelors_or_higher                0.679101\n",
       "birth_rate_per_1k                             0.046998\n",
       "death_rate_per_1k                            -0.589191\n",
       "Name: gross_rent, dtype: float64"
      ]
     },
     "execution_count": 9,
     "metadata": {},
     "output_type": "execute_result"
    }
   ],
   "source": [
    "train[train.columns[1:]].corr()['gross_rent'][:-1]"
   ]
  },
  {
   "cell_type": "code",
   "execution_count": 10,
   "metadata": {},
   "outputs": [
    {
     "data": {
      "text/plain": [
       "array(['fb8cab1', '842bd12', '2b7da97', '5029ed4', 'b795815', '4522abc',\n",
       "       '4c72956', '78e8330', '9e0007d', 'e74aca3', '1b0d913', '485e9af',\n",
       "       '4cd9667', '1646cf6', '20d32fc', 'a952566', '8036085', '9dda412',\n",
       "       '5086a32', 'e899d7f', '158df01', '6d287d7', '08f8fb4', '1dcfd4e',\n",
       "       '9d0874a', '528ea9f', '7dd3518', 'e2f94fa', 'c479f0c', 'dc9ae72',\n",
       "       '698ab34', '176f5f0', '0f8930b', '52acab4', '9d1e27d', 'c3dbf0a',\n",
       "       'b44cfe6', '7572db1', 'bc77872', 'dfc21f3', '3745933', '64ffe5d',\n",
       "       '09d8cd0', '105e445', 'fa605d5', '9e065a4', 'd233cec', '3337bbb',\n",
       "       '375d4d3', '914c15f'], dtype=object)"
      ]
     },
     "execution_count": 10,
     "metadata": {},
     "output_type": "execute_result"
    }
   ],
   "source": [
    "train.state.unique()"
   ]
  },
  {
   "cell_type": "code",
   "execution_count": 11,
   "metadata": {},
   "outputs": [
    {
     "data": {
      "text/html": [
       "<div>\n",
       "<style scoped>\n",
       "    .dataframe tbody tr th:only-of-type {\n",
       "        vertical-align: middle;\n",
       "    }\n",
       "\n",
       "    .dataframe tbody tr th {\n",
       "        vertical-align: top;\n",
       "    }\n",
       "\n",
       "    .dataframe thead th {\n",
       "        text-align: right;\n",
       "    }\n",
       "</style>\n",
       "<table border=\"1\" class=\"dataframe\">\n",
       "  <thead>\n",
       "    <tr style=\"text-align: right;\">\n",
       "      <th></th>\n",
       "      <th>row_id</th>\n",
       "      <th>county_code</th>\n",
       "      <th>state</th>\n",
       "      <th>population</th>\n",
       "      <th>renter_occupied_households</th>\n",
       "      <th>pct_renter_occupied</th>\n",
       "      <th>evictions</th>\n",
       "      <th>rent_burden</th>\n",
       "      <th>pct_white</th>\n",
       "      <th>pct_af_am</th>\n",
       "      <th>...</th>\n",
       "      <th>pct_female</th>\n",
       "      <th>pct_below_18_years_of_age</th>\n",
       "      <th>pct_aged_65_years_and_older</th>\n",
       "      <th>pct_adults_less_than_a_high_school_diploma</th>\n",
       "      <th>pct_adults_with_high_school_diploma</th>\n",
       "      <th>pct_adults_with_some_college</th>\n",
       "      <th>pct_adults_bachelors_or_higher</th>\n",
       "      <th>birth_rate_per_1k</th>\n",
       "      <th>death_rate_per_1k</th>\n",
       "      <th>gross_rent</th>\n",
       "    </tr>\n",
       "  </thead>\n",
       "  <tbody>\n",
       "    <tr>\n",
       "      <th>12</th>\n",
       "      <td>12</td>\n",
       "      <td>0921795</td>\n",
       "      <td>1b0d913</td>\n",
       "      <td>7218.0</td>\n",
       "      <td>823.0</td>\n",
       "      <td>26.178</td>\n",
       "      <td>3.0</td>\n",
       "      <td>30.468</td>\n",
       "      <td>0.428118</td>\n",
       "      <td>0.058903</td>\n",
       "      <td>...</td>\n",
       "      <td>0.497</td>\n",
       "      <td>0.233</td>\n",
       "      <td>0.202</td>\n",
       "      <td>0.199199</td>\n",
       "      <td>0.362362</td>\n",
       "      <td>0.341341</td>\n",
       "      <td>0.097097</td>\n",
       "      <td>11.608850</td>\n",
       "      <td>13.657471</td>\n",
       "      <td>645</td>\n",
       "    </tr>\n",
       "    <tr>\n",
       "      <th>20</th>\n",
       "      <td>20</td>\n",
       "      <td>58d1c1f</td>\n",
       "      <td>a952566</td>\n",
       "      <td>33020.0</td>\n",
       "      <td>4079.0</td>\n",
       "      <td>29.231</td>\n",
       "      <td>114.0</td>\n",
       "      <td>27.552</td>\n",
       "      <td>0.609131</td>\n",
       "      <td>0.286307</td>\n",
       "      <td>...</td>\n",
       "      <td>0.510</td>\n",
       "      <td>0.212</td>\n",
       "      <td>0.199</td>\n",
       "      <td>0.197408</td>\n",
       "      <td>0.398804</td>\n",
       "      <td>0.216351</td>\n",
       "      <td>0.187438</td>\n",
       "      <td>11.508874</td>\n",
       "      <td>12.296323</td>\n",
       "      <td>733</td>\n",
       "    </tr>\n",
       "    <tr>\n",
       "      <th>41</th>\n",
       "      <td>41</td>\n",
       "      <td>e043b4f</td>\n",
       "      <td>1b0d913</td>\n",
       "      <td>725489.0</td>\n",
       "      <td>97063.0</td>\n",
       "      <td>35.276</td>\n",
       "      <td>2268.0</td>\n",
       "      <td>28.412</td>\n",
       "      <td>0.619152</td>\n",
       "      <td>0.087421</td>\n",
       "      <td>...</td>\n",
       "      <td>0.512</td>\n",
       "      <td>0.272</td>\n",
       "      <td>0.078</td>\n",
       "      <td>0.081571</td>\n",
       "      <td>0.194361</td>\n",
       "      <td>0.312185</td>\n",
       "      <td>0.411883</td>\n",
       "      <td>13.141566</td>\n",
       "      <td>4.240086</td>\n",
       "      <td>991</td>\n",
       "    </tr>\n",
       "    <tr>\n",
       "      <th>47</th>\n",
       "      <td>47</td>\n",
       "      <td>426bbb1</td>\n",
       "      <td>a952566</td>\n",
       "      <td>98922.0</td>\n",
       "      <td>20310.0</td>\n",
       "      <td>46.317</td>\n",
       "      <td>1723.0</td>\n",
       "      <td>28.886</td>\n",
       "      <td>0.606657</td>\n",
       "      <td>0.275855</td>\n",
       "      <td>...</td>\n",
       "      <td>0.522</td>\n",
       "      <td>0.220</td>\n",
       "      <td>0.144</td>\n",
       "      <td>0.155311</td>\n",
       "      <td>0.304609</td>\n",
       "      <td>0.303607</td>\n",
       "      <td>0.236473</td>\n",
       "      <td>14.129478</td>\n",
       "      <td>11.746072</td>\n",
       "      <td>728</td>\n",
       "    </tr>\n",
       "    <tr>\n",
       "      <th>61</th>\n",
       "      <td>61</td>\n",
       "      <td>dafe063</td>\n",
       "      <td>1b0d913</td>\n",
       "      <td>18240.0</td>\n",
       "      <td>1793.0</td>\n",
       "      <td>29.867</td>\n",
       "      <td>-1.0</td>\n",
       "      <td>23.228</td>\n",
       "      <td>0.169795</td>\n",
       "      <td>0.039252</td>\n",
       "      <td>...</td>\n",
       "      <td>0.418</td>\n",
       "      <td>0.244</td>\n",
       "      <td>0.113</td>\n",
       "      <td>0.343284</td>\n",
       "      <td>0.338308</td>\n",
       "      <td>0.238806</td>\n",
       "      <td>0.079602</td>\n",
       "      <td>14.127199</td>\n",
       "      <td>7.144790</td>\n",
       "      <td>675</td>\n",
       "    </tr>\n",
       "    <tr>\n",
       "      <th>70</th>\n",
       "      <td>70</td>\n",
       "      <td>6c5ae9d</td>\n",
       "      <td>1b0d913</td>\n",
       "      <td>4371311.0</td>\n",
       "      <td>688268.0</td>\n",
       "      <td>44.981</td>\n",
       "      <td>29251.0</td>\n",
       "      <td>29.758</td>\n",
       "      <td>0.317401</td>\n",
       "      <td>0.183371</td>\n",
       "      <td>...</td>\n",
       "      <td>0.502</td>\n",
       "      <td>0.275</td>\n",
       "      <td>0.087</td>\n",
       "      <td>0.205589</td>\n",
       "      <td>0.231537</td>\n",
       "      <td>0.269461</td>\n",
       "      <td>0.293413</td>\n",
       "      <td>15.982822</td>\n",
       "      <td>5.505182</td>\n",
       "      <td>906</td>\n",
       "    </tr>\n",
       "    <tr>\n",
       "      <th>71</th>\n",
       "      <td>71</td>\n",
       "      <td>4336613</td>\n",
       "      <td>1b0d913</td>\n",
       "      <td>16867.0</td>\n",
       "      <td>1412.0</td>\n",
       "      <td>17.882</td>\n",
       "      <td>15.0</td>\n",
       "      <td>23.583</td>\n",
       "      <td>0.768835</td>\n",
       "      <td>0.075019</td>\n",
       "      <td>...</td>\n",
       "      <td>0.506</td>\n",
       "      <td>0.227</td>\n",
       "      <td>0.221</td>\n",
       "      <td>0.161034</td>\n",
       "      <td>0.362823</td>\n",
       "      <td>0.304175</td>\n",
       "      <td>0.171968</td>\n",
       "      <td>12.253071</td>\n",
       "      <td>12.910553</td>\n",
       "      <td>621</td>\n",
       "    </tr>\n",
       "    <tr>\n",
       "      <th>80</th>\n",
       "      <td>80</td>\n",
       "      <td>6531515</td>\n",
       "      <td>1b0d913</td>\n",
       "      <td>263369.0</td>\n",
       "      <td>26736.0</td>\n",
       "      <td>36.963</td>\n",
       "      <td>NaN</td>\n",
       "      <td>34.447</td>\n",
       "      <td>0.036562</td>\n",
       "      <td>0.002780</td>\n",
       "      <td>...</td>\n",
       "      <td>0.513</td>\n",
       "      <td>0.348</td>\n",
       "      <td>0.081</td>\n",
       "      <td>0.347264</td>\n",
       "      <td>0.242786</td>\n",
       "      <td>0.238806</td>\n",
       "      <td>0.171144</td>\n",
       "      <td>20.736784</td>\n",
       "      <td>4.821104</td>\n",
       "      <td>758</td>\n",
       "    </tr>\n",
       "    <tr>\n",
       "      <th>90</th>\n",
       "      <td>90</td>\n",
       "      <td>4e857e9</td>\n",
       "      <td>1b0d913</td>\n",
       "      <td>36299.0</td>\n",
       "      <td>4926.0</td>\n",
       "      <td>32.351</td>\n",
       "      <td>NaN</td>\n",
       "      <td>24.902</td>\n",
       "      <td>0.464875</td>\n",
       "      <td>0.099560</td>\n",
       "      <td>...</td>\n",
       "      <td>0.497</td>\n",
       "      <td>0.253</td>\n",
       "      <td>0.152</td>\n",
       "      <td>0.227455</td>\n",
       "      <td>0.352705</td>\n",
       "      <td>0.265531</td>\n",
       "      <td>0.154309</td>\n",
       "      <td>14.902068</td>\n",
       "      <td>10.217778</td>\n",
       "      <td>658</td>\n",
       "    </tr>\n",
       "    <tr>\n",
       "      <th>91</th>\n",
       "      <td>91</td>\n",
       "      <td>527ee03</td>\n",
       "      <td>a952566</td>\n",
       "      <td>320196.0</td>\n",
       "      <td>46938.0</td>\n",
       "      <td>37.466</td>\n",
       "      <td>3193.0</td>\n",
       "      <td>29.079</td>\n",
       "      <td>0.550880</td>\n",
       "      <td>0.294122</td>\n",
       "      <td>...</td>\n",
       "      <td>0.524</td>\n",
       "      <td>0.237</td>\n",
       "      <td>0.130</td>\n",
       "      <td>0.093812</td>\n",
       "      <td>0.227545</td>\n",
       "      <td>0.268463</td>\n",
       "      <td>0.410180</td>\n",
       "      <td>12.752166</td>\n",
       "      <td>8.238759</td>\n",
       "      <td>1035</td>\n",
       "    </tr>\n",
       "  </tbody>\n",
       "</table>\n",
       "<p>10 rows × 46 columns</p>\n",
       "</div>"
      ],
      "text/plain": [
       "    row_id county_code    state  population  renter_occupied_households  \\\n",
       "12      12     0921795  1b0d913      7218.0                       823.0   \n",
       "20      20     58d1c1f  a952566     33020.0                      4079.0   \n",
       "41      41     e043b4f  1b0d913    725489.0                     97063.0   \n",
       "47      47     426bbb1  a952566     98922.0                     20310.0   \n",
       "61      61     dafe063  1b0d913     18240.0                      1793.0   \n",
       "70      70     6c5ae9d  1b0d913   4371311.0                    688268.0   \n",
       "71      71     4336613  1b0d913     16867.0                      1412.0   \n",
       "80      80     6531515  1b0d913    263369.0                     26736.0   \n",
       "90      90     4e857e9  1b0d913     36299.0                      4926.0   \n",
       "91      91     527ee03  a952566    320196.0                     46938.0   \n",
       "\n",
       "    pct_renter_occupied  evictions  rent_burden  pct_white  pct_af_am  \\\n",
       "12               26.178        3.0       30.468   0.428118   0.058903   \n",
       "20               29.231      114.0       27.552   0.609131   0.286307   \n",
       "41               35.276     2268.0       28.412   0.619152   0.087421   \n",
       "47               46.317     1723.0       28.886   0.606657   0.275855   \n",
       "61               29.867       -1.0       23.228   0.169795   0.039252   \n",
       "70               44.981    29251.0       29.758   0.317401   0.183371   \n",
       "71               17.882       15.0       23.583   0.768835   0.075019   \n",
       "80               36.963        NaN       34.447   0.036562   0.002780   \n",
       "90               32.351        NaN       24.902   0.464875   0.099560   \n",
       "91               37.466     3193.0       29.079   0.550880   0.294122   \n",
       "\n",
       "      ...      pct_female  pct_below_18_years_of_age  \\\n",
       "12    ...           0.497                      0.233   \n",
       "20    ...           0.510                      0.212   \n",
       "41    ...           0.512                      0.272   \n",
       "47    ...           0.522                      0.220   \n",
       "61    ...           0.418                      0.244   \n",
       "70    ...           0.502                      0.275   \n",
       "71    ...           0.506                      0.227   \n",
       "80    ...           0.513                      0.348   \n",
       "90    ...           0.497                      0.253   \n",
       "91    ...           0.524                      0.237   \n",
       "\n",
       "    pct_aged_65_years_and_older  pct_adults_less_than_a_high_school_diploma  \\\n",
       "12                        0.202                                    0.199199   \n",
       "20                        0.199                                    0.197408   \n",
       "41                        0.078                                    0.081571   \n",
       "47                        0.144                                    0.155311   \n",
       "61                        0.113                                    0.343284   \n",
       "70                        0.087                                    0.205589   \n",
       "71                        0.221                                    0.161034   \n",
       "80                        0.081                                    0.347264   \n",
       "90                        0.152                                    0.227455   \n",
       "91                        0.130                                    0.093812   \n",
       "\n",
       "    pct_adults_with_high_school_diploma  pct_adults_with_some_college  \\\n",
       "12                             0.362362                      0.341341   \n",
       "20                             0.398804                      0.216351   \n",
       "41                             0.194361                      0.312185   \n",
       "47                             0.304609                      0.303607   \n",
       "61                             0.338308                      0.238806   \n",
       "70                             0.231537                      0.269461   \n",
       "71                             0.362823                      0.304175   \n",
       "80                             0.242786                      0.238806   \n",
       "90                             0.352705                      0.265531   \n",
       "91                             0.227545                      0.268463   \n",
       "\n",
       "    pct_adults_bachelors_or_higher birth_rate_per_1k death_rate_per_1k  \\\n",
       "12                        0.097097         11.608850         13.657471   \n",
       "20                        0.187438         11.508874         12.296323   \n",
       "41                        0.411883         13.141566          4.240086   \n",
       "47                        0.236473         14.129478         11.746072   \n",
       "61                        0.079602         14.127199          7.144790   \n",
       "70                        0.293413         15.982822          5.505182   \n",
       "71                        0.171968         12.253071         12.910553   \n",
       "80                        0.171144         20.736784          4.821104   \n",
       "90                        0.154309         14.902068         10.217778   \n",
       "91                        0.410180         12.752166          8.238759   \n",
       "\n",
       "   gross_rent  \n",
       "12        645  \n",
       "20        733  \n",
       "41        991  \n",
       "47        728  \n",
       "61        675  \n",
       "70        906  \n",
       "71        621  \n",
       "80        758  \n",
       "90        658  \n",
       "91       1035  \n",
       "\n",
       "[10 rows x 46 columns]"
      ]
     },
     "execution_count": 11,
     "metadata": {},
     "output_type": "execute_result"
    }
   ],
   "source": [
    "train.query(\"state in ('1b0d913','a952566')\").head(10)"
   ]
  },
  {
   "cell_type": "code",
   "execution_count": 12,
   "metadata": {},
   "outputs": [
    {
     "data": {
      "text/html": [
       "<div>\n",
       "<style scoped>\n",
       "    .dataframe tbody tr th:only-of-type {\n",
       "        vertical-align: middle;\n",
       "    }\n",
       "\n",
       "    .dataframe tbody tr th {\n",
       "        vertical-align: top;\n",
       "    }\n",
       "\n",
       "    .dataframe thead th {\n",
       "        text-align: right;\n",
       "    }\n",
       "</style>\n",
       "<table border=\"1\" class=\"dataframe\">\n",
       "  <thead>\n",
       "    <tr style=\"text-align: right;\">\n",
       "      <th></th>\n",
       "      <th>count</th>\n",
       "      <th>mean</th>\n",
       "      <th>std</th>\n",
       "      <th>min</th>\n",
       "      <th>25%</th>\n",
       "      <th>50%</th>\n",
       "      <th>75%</th>\n",
       "      <th>max</th>\n",
       "    </tr>\n",
       "    <tr>\n",
       "      <th>state</th>\n",
       "      <th></th>\n",
       "      <th></th>\n",
       "      <th></th>\n",
       "      <th></th>\n",
       "      <th></th>\n",
       "      <th></th>\n",
       "      <th></th>\n",
       "      <th></th>\n",
       "    </tr>\n",
       "  </thead>\n",
       "  <tbody>\n",
       "    <tr>\n",
       "      <th>1b0d913</th>\n",
       "      <td>131.0</td>\n",
       "      <td>691.229008</td>\n",
       "      <td>123.938419</td>\n",
       "      <td>433.0</td>\n",
       "      <td>617.5</td>\n",
       "      <td>675.0</td>\n",
       "      <td>759.5</td>\n",
       "      <td>1002.0</td>\n",
       "    </tr>\n",
       "    <tr>\n",
       "      <th>a952566</th>\n",
       "      <td>69.0</td>\n",
       "      <td>894.710145</td>\n",
       "      <td>315.577440</td>\n",
       "      <td>473.0</td>\n",
       "      <td>680.0</td>\n",
       "      <td>861.0</td>\n",
       "      <td>1031.0</td>\n",
       "      <td>1827.0</td>\n",
       "    </tr>\n",
       "  </tbody>\n",
       "</table>\n",
       "</div>"
      ],
      "text/plain": [
       "         count        mean         std    min    25%    50%     75%     max\n",
       "state                                                                      \n",
       "1b0d913  131.0  691.229008  123.938419  433.0  617.5  675.0   759.5  1002.0\n",
       "a952566   69.0  894.710145  315.577440  473.0  680.0  861.0  1031.0  1827.0"
      ]
     },
     "execution_count": 12,
     "metadata": {},
     "output_type": "execute_result"
    }
   ],
   "source": [
    "train.query(\"state in ('1b0d913','a952566')\").groupby(train.state).gross_rent.describe()"
   ]
  },
  {
   "cell_type": "code",
   "execution_count": 13,
   "metadata": {},
   "outputs": [
    {
     "data": {
      "text/plain": [
       "701.1421254801536"
      ]
     },
     "execution_count": 13,
     "metadata": {},
     "output_type": "execute_result"
    }
   ],
   "source": [
    "train.gross_rent.mean()"
   ]
  },
  {
   "cell_type": "code",
   "execution_count": 14,
   "metadata": {},
   "outputs": [
    {
     "data": {
      "text/plain": [
       "state\n",
       "78e8330     536.333333\n",
       "fb8cab1     577.900000\n",
       "528ea9f     579.631579\n",
       "b795815     585.266667\n",
       "e2f94fa     595.000000\n",
       "8036085     599.685714\n",
       "c3dbf0a     602.117647\n",
       "9e0007d     605.151515\n",
       "e899d7f     607.612903\n",
       "dc9ae72     614.440000\n",
       "9d1e27d     620.404255\n",
       "08f8fb4     621.870370\n",
       "9d0874a     623.000000\n",
       "52acab4     624.967742\n",
       "c479f0c     650.535714\n",
       "158df01     663.315789\n",
       "842bd12     663.653846\n",
       "0f8930b     678.068182\n",
       "9dda412     678.897436\n",
       "698ab34     680.714286\n",
       "e74aca3     685.722222\n",
       "4522abc     688.344086\n",
       "1b0d913     691.229008\n",
       "5029ed4     694.375000\n",
       "09d8cd0     701.170213\n",
       "4cd9667     701.800000\n",
       "485e9af     703.520000\n",
       "20d32fc     718.910714\n",
       "d233cec     730.900000\n",
       "6d287d7     737.250000\n",
       "64ffe5d     744.200000\n",
       "1646cf6     755.703704\n",
       "176f5f0     761.312500\n",
       "375d4d3     795.000000\n",
       "fa605d5     797.666667\n",
       "3745933     823.000000\n",
       "7572db1     842.250000\n",
       "5086a32     847.571429\n",
       "2b7da97     856.833333\n",
       "1dcfd4e     866.054054\n",
       "a952566     894.710145\n",
       "9e065a4     974.000000\n",
       "7dd3518    1015.111111\n",
       "3337bbb    1027.500000\n",
       "dfc21f3    1031.000000\n",
       "105e445    1032.250000\n",
       "4c72956    1059.548387\n",
       "b44cfe6    1159.000000\n",
       "bc77872    1227.428571\n",
       "914c15f    1569.000000\n",
       "Name: gross_rent, dtype: float64"
      ]
     },
     "execution_count": 14,
     "metadata": {},
     "output_type": "execute_result"
    }
   ],
   "source": [
    "#per state\n",
    "train.gross_rent.groupby(train.state).mean().sort_values()"
   ]
  },
  {
   "cell_type": "code",
   "execution_count": 15,
   "metadata": {},
   "outputs": [
    {
     "data": {
      "text/plain": [
       "state    county_code\n",
       "08f8fb4  03708d9        558\n",
       "         0cade7f        713\n",
       "         0d5802b        769\n",
       "         0d95103        446\n",
       "         0f9f633        807\n",
       "         16ed851        650\n",
       "         190cee9        632\n",
       "         1e2d9a3        639\n",
       "         1ef98e1        768\n",
       "         22b02e3        593\n",
       "         2804585        726\n",
       "         2900aa5        696\n",
       "         2dd1ead        590\n",
       "         2ded89d        591\n",
       "         2f31ea7        634\n",
       "         31157c3        566\n",
       "         38fb2ef        583\n",
       "         3d10a37        566\n",
       "         3eb3e7d        598\n",
       "         50642cd        613\n",
       "         5182b33        560\n",
       "         519c92f        804\n",
       "         558cad5        528\n",
       "         5ccb4ff        580\n",
       "         641f8ad        601\n",
       "         6526e9f        595\n",
       "         66faae3        498\n",
       "         6a72569        558\n",
       "         72ca4e9        534\n",
       "         7a77505        504\n",
       "                       ... \n",
       "fb8cab1  118ca99        558\n",
       "         15a1a6d        520\n",
       "         170b0b3        406\n",
       "         17125a7        705\n",
       "         26886b3        565\n",
       "         3b9505f        481\n",
       "         43b66dd        582\n",
       "         555fe97        467\n",
       "         568b173        712\n",
       "         58462e7        763\n",
       "         5a9c263        351\n",
       "         6074b91        673\n",
       "         62c7e21        515\n",
       "         62cb873        560\n",
       "         7148511        608\n",
       "         7ce11c5        630\n",
       "         83b1607        762\n",
       "         8e686a7        577\n",
       "         978d233        514\n",
       "         9b5d201        465\n",
       "         a6f2901        548\n",
       "         aff8f6d        755\n",
       "         b301c5b        898\n",
       "         b66aeb7        512\n",
       "         d27aeaf        443\n",
       "         e46e2df        650\n",
       "         e97a66b        423\n",
       "         f61f365        668\n",
       "         f62fc23        442\n",
       "         fed752d        584\n",
       "Name: gross_rent, Length: 1562, dtype: int64"
      ]
     },
     "execution_count": 15,
     "metadata": {},
     "output_type": "execute_result"
    }
   ],
   "source": [
    "#per state per county\n",
    "train.groupby(['state','county_code']).gross_rent.mean()"
   ]
  },
  {
   "cell_type": "code",
   "execution_count": 16,
   "metadata": {},
   "outputs": [
    {
     "data": {
      "image/png": "[encoded data removed]",
      "text/plain": [
       "<Figure size 864x504 with 1 Axes>"
      ]
     },
     "metadata": {
      "needs_background": "light"
     },
     "output_type": "display_data"
    }
   ],
   "source": [
    "plt.figure(figsize=(12,7))\n",
    "figX = train.gross_rent.groupby(train.state).mean().hist(bins=20)\n",
    "figX.set_title('Histogram of gross_rent per state')\n",
    "figX.set_ylabel('Frequency')\n",
    "plt.show()"
   ]
  },
  {
   "cell_type": "code",
   "execution_count": 17,
   "metadata": {},
   "outputs": [
    {
     "data": {
      "text/plain": [
       "state\n",
       "914c15f      1\n",
       "9e065a4      1\n",
       "375d4d3      2\n",
       "6d287d7      4\n",
       "105e445      4\n",
       "fa605d5      6\n",
       "2b7da97      6\n",
       "3337bbb      6\n",
       "dfc21f3      6\n",
       "b44cfe6      6\n",
       "bc77872      7\n",
       "5029ed4      8\n",
       "d233cec     10\n",
       "64ffe5d     15\n",
       "176f5f0     16\n",
       "7dd3518     18\n",
       "3745933     19\n",
       "4cd9667     20\n",
       "698ab34     21\n",
       "485e9af     25\n",
       "842bd12     26\n",
       "1646cf6     27\n",
       "5086a32     28\n",
       "fb8cab1     30\n",
       "4c72956     31\n",
       "e899d7f     31\n",
       "52acab4     31\n",
       "9e0007d     33\n",
       "78e8330     33\n",
       "c3dbf0a     34\n",
       "8036085     35\n",
       "e74aca3     36\n",
       "1dcfd4e     37\n",
       "158df01     38\n",
       "9d0874a     39\n",
       "9dda412     39\n",
       "7572db1     40\n",
       "0f8930b     44\n",
       "e2f94fa     44\n",
       "b795815     45\n",
       "09d8cd0     47\n",
       "9d1e27d     47\n",
       "dc9ae72     50\n",
       "08f8fb4     54\n",
       "c479f0c     56\n",
       "20d32fc     56\n",
       "528ea9f     57\n",
       "a952566     69\n",
       "4522abc     93\n",
       "1b0d913    131\n",
       "Name: county_code, dtype: int64"
      ]
     },
     "execution_count": 17,
     "metadata": {},
     "output_type": "execute_result"
    }
   ],
   "source": [
    "train.county_code.groupby(train.state).count().sort_values()"
   ]
  },
  {
   "cell_type": "code",
   "execution_count": 18,
   "metadata": {},
   "outputs": [
    {
     "data": {
      "text/plain": [
       "<matplotlib.axes._subplots.AxesSubplot at 0x7f48fd3fba90>"
      ]
     },
     "execution_count": 18,
     "metadata": {},
     "output_type": "execute_result"
    },
    {
     "data": {
      "image/png": "[encoded data removed]",
      "text/plain": [
       "<Figure size 432x288 with 1 Axes>"
      ]
     },
     "metadata": {
      "needs_background": "light"
     },
     "output_type": "display_data"
    }
   ],
   "source": [
    "train[train['state']=='1b0d913'].gross_rent.hist(bins=20)"
   ]
  },
  {
   "cell_type": "code",
   "execution_count": 19,
   "metadata": {},
   "outputs": [
    {
     "data": {
      "text/plain": [
       "<matplotlib.axes._subplots.AxesSubplot at 0x7f48fd2eb588>"
      ]
     },
     "execution_count": 19,
     "metadata": {},
     "output_type": "execute_result"
    },
    {
     "data": {
      "image/png": "[encoded data removed]",
      "text/plain": [
       "<Figure size 432x288 with 1 Axes>"
      ]
     },
     "metadata": {
      "needs_background": "light"
     },
     "output_type": "display_data"
    }
   ],
   "source": [
    "train[train['state']=='d233cec'].gross_rent.hist(bins=20)"
   ]
  },
  {
   "cell_type": "code",
   "execution_count": 20,
   "metadata": {},
   "outputs": [
    {
     "data": {
      "text/plain": [
       "<matplotlib.axes._subplots.AxesSubplot at 0x7f48fd241358>"
      ]
     },
     "execution_count": 20,
     "metadata": {},
     "output_type": "execute_result"
    },
    {
     "data": {
      "image/png": "[encoded data removed]",
      "text/plain": [
       "<Figure size 432x288 with 1 Axes>"
      ]
     },
     "metadata": {
      "needs_background": "light"
     },
     "output_type": "display_data"
    }
   ],
   "source": [
    "train[train['state']=='914c15f'].gross_rent.hist(bins=20)    "
   ]
  },
  {
   "cell_type": "code",
   "execution_count": 21,
   "metadata": {},
   "outputs": [
    {
     "data": {
      "text/plain": [
       "<matplotlib.axes._subplots.AxesSubplot at 0x7f48fd27f6a0>"
      ]
     },
     "execution_count": 21,
     "metadata": {},
     "output_type": "execute_result"
    },
    {
     "data": {
      "image/png": "[encoded data removed]",
      "text/plain": [
       "<Figure size 432x288 with 1 Axes>"
      ]
     },
     "metadata": {
      "needs_background": "light"
     },
     "output_type": "display_data"
    }
   ],
   "source": [
    "train[train['state']=='78e8330'].gross_rent.hist(bins=20)    "
   ]
  },
  {
   "cell_type": "code",
   "execution_count": 22,
   "metadata": {},
   "outputs": [
    {
     "data": {
      "text/plain": [
       "state\n",
       "78e8330     536.0\n",
       "8036085     554.0\n",
       "528ea9f     556.0\n",
       "fb8cab1     562.5\n",
       "e899d7f     575.0\n",
       "c3dbf0a     575.5\n",
       "b795815     585.0\n",
       "9d0874a     588.0\n",
       "e2f94fa     590.5\n",
       "9e0007d     596.0\n",
       "9d1e27d     597.0\n",
       "08f8fb4     597.0\n",
       "dc9ae72     609.5\n",
       "c479f0c     616.5\n",
       "52acab4     618.0\n",
       "9dda412     627.0\n",
       "485e9af     631.0\n",
       "4522abc     635.0\n",
       "842bd12     652.0\n",
       "158df01     661.0\n",
       "698ab34     668.0\n",
       "e74aca3     672.5\n",
       "20d32fc     673.0\n",
       "0f8930b     675.0\n",
       "1b0d913     675.0\n",
       "09d8cd0     680.0\n",
       "5029ed4     687.0\n",
       "1646cf6     714.0\n",
       "5086a32     728.5\n",
       "4cd9667     738.0\n",
       "d233cec     740.5\n",
       "176f5f0     752.5\n",
       "64ffe5d     761.0\n",
       "6d287d7     765.5\n",
       "fa605d5     774.0\n",
       "375d4d3     795.0\n",
       "3745933     798.0\n",
       "1dcfd4e     829.0\n",
       "a952566     861.0\n",
       "7572db1     865.0\n",
       "2b7da97     869.0\n",
       "9e065a4     974.0\n",
       "4c72956     989.0\n",
       "105e445    1021.5\n",
       "3337bbb    1031.0\n",
       "7dd3518    1045.0\n",
       "dfc21f3    1090.0\n",
       "b44cfe6    1139.5\n",
       "bc77872    1299.0\n",
       "914c15f    1569.0\n",
       "Name: gross_rent, dtype: float64"
      ]
     },
     "execution_count": 22,
     "metadata": {},
     "output_type": "execute_result"
    }
   ],
   "source": [
    "train.groupby(by='state').median()['gross_rent'].sort_values()"
   ]
  },
  {
   "cell_type": "code",
   "execution_count": 23,
   "metadata": {},
   "outputs": [
    {
     "data": {
      "text/plain": [
       "<matplotlib.axes._subplots.AxesSubplot at 0x7f48fcabab70>"
      ]
     },
     "execution_count": 23,
     "metadata": {},
     "output_type": "execute_result"
    },
    {
     "data": {
      "image/png": "[encoded data removed]",
      "text/plain": [
       "<Figure size 432x288 with 1 Axes>"
      ]
     },
     "metadata": {
      "needs_background": "light"
     },
     "output_type": "display_data"
    }
   ],
   "source": [
    "sns.boxplot(x=\"state\", y=\"gross_rent\",data=train, palette=\"coolwarm\")"
   ]
  },
  {
   "cell_type": "code",
   "execution_count": null,
   "metadata": {},
   "outputs": [],
   "source": []
  }
 ],
 "metadata": {
  "kernelspec": {
   "display_name": "Python 3.6",
   "language": "python",
   "name": "python36"
  },
  "language_info": {
   "codemirror_mode": {
    "name": "ipython",
    "version": 3
   },
   "file_extension": ".py",
   "mimetype": "text/x-python",
   "name": "python",
   "nbconvert_exporter": "python",
   "pygments_lexer": "ipython3",
   "version": "3.6.6"
  }
 },
 "nbformat": 4,
 "nbformat_minor": 2
}

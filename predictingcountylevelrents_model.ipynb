{
 "cells": [
  {
   "cell_type": "code",
   "execution_count": 1,
   "metadata": {},
   "outputs": [],
   "source": [
    "import pandas as pd\n",
    "import matplotlib.pyplot as plt\n",
    "import seaborn as sns\n",
    "import numpy as np\n",
    "import numpy.random as nr\n",
    "import math\n",
    "import sklearn.model_selection as ms\n",
    "\n",
    "import sys\n",
    "from sklearn import preprocessing\n",
    "import sklearn.model_selection as ms\n",
    "from sklearn import linear_model\n",
    "import sklearn.metrics as sklm\n",
    "\n",
    "%matplotlib inline"
   ]
  },
  {
   "cell_type": "code",
   "execution_count": 2,
   "metadata": {},
   "outputs": [
    {
     "data": {
      "text/plain": [
       "(1562, 46)"
      ]
     },
     "execution_count": 2,
     "metadata": {},
     "output_type": "execute_result"
    }
   ],
   "source": [
    "#Read Data Source\n",
    "train_values = pd.read_csv('train_values_OL27nta.csv')\n",
    "train_values.head(5)\n",
    "\n",
    "train_labels = pd.read_csv('train_labels_DPetPH2.csv')\n",
    "train_labels.head(5)\n",
    "\n",
    "train = train_values.merge(train_labels,on='row_id')\n",
    "train.head(5)\n",
    "train.shape"
   ]
  },
  {
   "cell_type": "code",
   "execution_count": 3,
   "metadata": {},
   "outputs": [
    {
     "name": "stdout",
     "output_type": "stream",
     "text": [
      "[577 844 700 ... 754 640 976]\n"
     ]
    }
   ],
   "source": [
    "labels = np.array(train['gross_rent'])\n",
    "print(labels)"
   ]
  },
  {
   "cell_type": "code",
   "execution_count": 4,
   "metadata": {},
   "outputs": [
    {
     "data": {
      "text/plain": [
       "row_id                                        False\n",
       "county_code                                   False\n",
       "state                                         False\n",
       "population                                    False\n",
       "renter_occupied_households                    False\n",
       "pct_renter_occupied                           False\n",
       "evictions                                     False\n",
       "rent_burden                                   False\n",
       "pct_white                                     False\n",
       "pct_af_am                                     False\n",
       "pct_hispanic                                  False\n",
       "pct_am_ind                                    False\n",
       "pct_asian                                     False\n",
       "pct_nh_pi                                     False\n",
       "pct_multiple                                  False\n",
       "pct_other                                     False\n",
       "poverty_rate                                  False\n",
       "rucc                                          False\n",
       "urban_influence                               False\n",
       "economic_typology                             False\n",
       "pct_civilian_labor                            False\n",
       "pct_unemployment                              False\n",
       "pct_uninsured_adults                          False\n",
       "pct_uninsured_children                        False\n",
       "pct_adult_obesity                             False\n",
       "pct_adult_smoking                             False\n",
       "pct_diabetes                                  False\n",
       "pct_low_birthweight                           False\n",
       "pct_excessive_drinking                        False\n",
       "pct_physical_inactivity                       False\n",
       "air_pollution_particulate_matter_value        False\n",
       "homicides_per_100k                            False\n",
       "motor_vehicle_crash_deaths_per_100k           False\n",
       "heart_disease_mortality_per_100k              False\n",
       "pop_per_dentist                               False\n",
       "pop_per_primary_care_physician                False\n",
       "pct_female                                    False\n",
       "pct_below_18_years_of_age                     False\n",
       "pct_aged_65_years_and_older                   False\n",
       "pct_adults_less_than_a_high_school_diploma    False\n",
       "pct_adults_with_high_school_diploma           False\n",
       "pct_adults_with_some_college                  False\n",
       "pct_adults_bachelors_or_higher                False\n",
       "birth_rate_per_1k                             False\n",
       "death_rate_per_1k                             False\n",
       "gross_rent                                    False\n",
       "dtype: bool"
      ]
     },
     "execution_count": 4,
     "metadata": {},
     "output_type": "execute_result"
    }
   ],
   "source": [
    "(train.astype(np.object) == '?').any()"
   ]
  },
  {
   "cell_type": "code",
   "execution_count": 5,
   "metadata": {},
   "outputs": [
    {
     "name": "stdout",
     "output_type": "stream",
     "text": [
      "There are 41 numerical variables. This includes boolean values\n"
     ]
    }
   ],
   "source": [
    "numerical_with_bool = [var for var in train.columns if train[var].dtype!='O']\n",
    "print('There are {} numerical variables. This includes boolean values'.format(len(numerical_with_bool)))"
   ]
  },
  {
   "cell_type": "code",
   "execution_count": 6,
   "metadata": {},
   "outputs": [
    {
     "name": "stdout",
     "output_type": "stream",
     "text": [
      "There are 0 boolean variables\n"
     ]
    }
   ],
   "source": [
    "boolean = [var for var in train.columns if train[var].dtype=='?']\n",
    "print('There are {} boolean variables'.format(len(boolean)))"
   ]
  },
  {
   "cell_type": "code",
   "execution_count": 7,
   "metadata": {},
   "outputs": [
    {
     "name": "stdout",
     "output_type": "stream",
     "text": [
      "There are 41 numerical variables\n"
     ]
    }
   ],
   "source": [
    "numerical = [var for var in train[numerical_with_bool] if var not in boolean]\n",
    "print('There are {} numerical variables'.format(len(numerical)))"
   ]
  },
  {
   "cell_type": "code",
   "execution_count": 8,
   "metadata": {},
   "outputs": [
    {
     "name": "stdout",
     "output_type": "stream",
     "text": [
      "['homicides_per_100k']\n"
     ]
    }
   ],
   "source": [
    "vars_num_removed =[var for var in train.columns if train[var].isnull().mean()> 0.6 and train[var].dtypes!='O']\n",
    "print(vars_num_removed)"
   ]
  },
  {
   "cell_type": "code",
   "execution_count": 9,
   "metadata": {},
   "outputs": [
    {
     "name": "stdout",
     "output_type": "stream",
     "text": [
      "There are 40 numerical variables\n"
     ]
    }
   ],
   "source": [
    "numerical = [var for var in train[numerical] if var not in vars_num_removed]\n",
    "print('There are {} numerical variables'.format(len(numerical)))"
   ]
  },
  {
   "cell_type": "code",
   "execution_count": 10,
   "metadata": {},
   "outputs": [
    {
     "data": {
      "text/plain": [
       "row_id                                          0\n",
       "county_code                                     0\n",
       "state                                           0\n",
       "population                                      0\n",
       "renter_occupied_households                      0\n",
       "pct_renter_occupied                             0\n",
       "evictions                                     327\n",
       "rent_burden                                     0\n",
       "pct_white                                       0\n",
       "pct_af_am                                       0\n",
       "pct_hispanic                                    0\n",
       "pct_am_ind                                      0\n",
       "pct_asian                                       0\n",
       "pct_nh_pi                                       0\n",
       "pct_multiple                                    0\n",
       "pct_other                                       0\n",
       "poverty_rate                                    0\n",
       "rucc                                            0\n",
       "urban_influence                                 0\n",
       "economic_typology                               0\n",
       "pct_civilian_labor                              0\n",
       "pct_unemployment                                0\n",
       "pct_uninsured_adults                            2\n",
       "pct_uninsured_children                          2\n",
       "pct_adult_obesity                               2\n",
       "pct_adult_smoking                             218\n",
       "pct_diabetes                                    2\n",
       "pct_low_birthweight                           116\n",
       "pct_excessive_drinking                        462\n",
       "pct_physical_inactivity                         2\n",
       "air_pollution_particulate_matter_value         20\n",
       "homicides_per_100k                            949\n",
       "motor_vehicle_crash_deaths_per_100k           190\n",
       "heart_disease_mortality_per_100k                0\n",
       "pop_per_dentist                               115\n",
       "pop_per_primary_care_physician                114\n",
       "pct_female                                      2\n",
       "pct_below_18_years_of_age                       2\n",
       "pct_aged_65_years_and_older                     2\n",
       "pct_adults_less_than_a_high_school_diploma      0\n",
       "pct_adults_with_high_school_diploma             0\n",
       "pct_adults_with_some_college                    0\n",
       "pct_adults_bachelors_or_higher                  0\n",
       "birth_rate_per_1k                               0\n",
       "death_rate_per_1k                               0\n",
       "gross_rent                                      0\n",
       "dtype: int64"
      ]
     },
     "execution_count": 10,
     "metadata": {},
     "output_type": "execute_result"
    }
   ],
   "source": [
    "train.isnull().sum()"
   ]
  },
  {
   "cell_type": "code",
   "execution_count": 43,
   "metadata": {},
   "outputs": [],
   "source": [
    "train.describe().to_csv(\"traindescribe.csv\")"
   ]
  },
  {
   "cell_type": "code",
   "execution_count": 11,
   "metadata": {},
   "outputs": [
    {
     "data": {
      "text/plain": [
       "row_id                                          0\n",
       "county_code                                     0\n",
       "state                                           0\n",
       "population                                      0\n",
       "renter_occupied_households                      0\n",
       "pct_renter_occupied                             0\n",
       "evictions                                       0\n",
       "rent_burden                                     0\n",
       "pct_white                                       0\n",
       "pct_af_am                                       0\n",
       "pct_hispanic                                    0\n",
       "pct_am_ind                                      0\n",
       "pct_asian                                       0\n",
       "pct_nh_pi                                       0\n",
       "pct_multiple                                    0\n",
       "pct_other                                       0\n",
       "poverty_rate                                    0\n",
       "rucc                                            0\n",
       "urban_influence                                 0\n",
       "economic_typology                               0\n",
       "pct_civilian_labor                              0\n",
       "pct_unemployment                                0\n",
       "pct_uninsured_adults                            0\n",
       "pct_uninsured_children                          0\n",
       "pct_adult_obesity                               0\n",
       "pct_adult_smoking                               0\n",
       "pct_diabetes                                    0\n",
       "pct_low_birthweight                             0\n",
       "pct_excessive_drinking                          0\n",
       "pct_physical_inactivity                         0\n",
       "air_pollution_particulate_matter_value          0\n",
       "homicides_per_100k                            949\n",
       "motor_vehicle_crash_deaths_per_100k             0\n",
       "heart_disease_mortality_per_100k                0\n",
       "pop_per_dentist                                 0\n",
       "pop_per_primary_care_physician                  0\n",
       "pct_female                                      0\n",
       "pct_below_18_years_of_age                       0\n",
       "pct_aged_65_years_and_older                     0\n",
       "pct_adults_less_than_a_high_school_diploma      0\n",
       "pct_adults_with_high_school_diploma             0\n",
       "pct_adults_with_some_college                    0\n",
       "pct_adults_bachelors_or_higher                  0\n",
       "birth_rate_per_1k                               0\n",
       "death_rate_per_1k                               0\n",
       "gross_rent                                      0\n",
       "dtype: int64"
      ]
     },
     "execution_count": 11,
     "metadata": {},
     "output_type": "execute_result"
    }
   ],
   "source": [
    "# replace the missing values\n",
    "for var in numerical:\n",
    "    \n",
    "    # calculate the mode\n",
    "    mode_val = np.mean(train[var])\n",
    "    \n",
    "    # train\n",
    "    \n",
    "    train[var].fillna(mode_val, inplace=True)\n",
    "    \n",
    "# check that we have no more missing values in the engineered variables\n",
    "train.isnull().sum()"
   ]
  },
  {
   "cell_type": "code",
   "execution_count": 12,
   "metadata": {},
   "outputs": [
    {
     "data": {
      "text/plain": [
       "['homicides_per_100k']"
      ]
     },
     "execution_count": 12,
     "metadata": {},
     "output_type": "execute_result"
    }
   ],
   "source": [
    "[var for var in train.columns if train[var].isnull().sum()>0]"
   ]
  },
  {
   "cell_type": "code",
   "execution_count": 13,
   "metadata": {},
   "outputs": [
    {
     "data": {
      "text/html": [
       "<div>\n",
       "<style scoped>\n",
       "    .dataframe tbody tr th:only-of-type {\n",
       "        vertical-align: middle;\n",
       "    }\n",
       "\n",
       "    .dataframe tbody tr th {\n",
       "        vertical-align: top;\n",
       "    }\n",
       "\n",
       "    .dataframe thead th {\n",
       "        text-align: right;\n",
       "    }\n",
       "</style>\n",
       "<table border=\"1\" class=\"dataframe\">\n",
       "  <thead>\n",
       "    <tr style=\"text-align: right;\">\n",
       "      <th></th>\n",
       "      <th>row_id</th>\n",
       "      <th>county_code</th>\n",
       "      <th>state</th>\n",
       "      <th>population</th>\n",
       "      <th>renter_occupied_households</th>\n",
       "      <th>pct_renter_occupied</th>\n",
       "      <th>evictions</th>\n",
       "      <th>rent_burden</th>\n",
       "      <th>pct_white</th>\n",
       "      <th>pct_af_am</th>\n",
       "      <th>...</th>\n",
       "      <th>pct_female</th>\n",
       "      <th>pct_below_18_years_of_age</th>\n",
       "      <th>pct_aged_65_years_and_older</th>\n",
       "      <th>pct_adults_less_than_a_high_school_diploma</th>\n",
       "      <th>pct_adults_with_high_school_diploma</th>\n",
       "      <th>pct_adults_with_some_college</th>\n",
       "      <th>pct_adults_bachelors_or_higher</th>\n",
       "      <th>birth_rate_per_1k</th>\n",
       "      <th>death_rate_per_1k</th>\n",
       "      <th>gross_rent</th>\n",
       "    </tr>\n",
       "  </thead>\n",
       "  <tbody>\n",
       "    <tr>\n",
       "      <th>0</th>\n",
       "      <td>0</td>\n",
       "      <td>8e686a7</td>\n",
       "      <td>fb8cab1</td>\n",
       "      <td>3876.0</td>\n",
       "      <td>408.0</td>\n",
       "      <td>24.583</td>\n",
       "      <td>397.410526</td>\n",
       "      <td>18.380</td>\n",
       "      <td>0.945945</td>\n",
       "      <td>0.010761</td>\n",
       "      <td>...</td>\n",
       "      <td>0.471</td>\n",
       "      <td>0.218</td>\n",
       "      <td>0.190</td>\n",
       "      <td>0.083250</td>\n",
       "      <td>0.327984</td>\n",
       "      <td>0.389168</td>\n",
       "      <td>0.199599</td>\n",
       "      <td>10.008982</td>\n",
       "      <td>9.752342</td>\n",
       "      <td>577</td>\n",
       "    </tr>\n",
       "    <tr>\n",
       "      <th>1</th>\n",
       "      <td>1</td>\n",
       "      <td>d1b5fc5</td>\n",
       "      <td>842bd12</td>\n",
       "      <td>10224.0</td>\n",
       "      <td>1166.0</td>\n",
       "      <td>28.346</td>\n",
       "      <td>3.000000</td>\n",
       "      <td>26.694</td>\n",
       "      <td>0.808959</td>\n",
       "      <td>0.002284</td>\n",
       "      <td>...</td>\n",
       "      <td>0.472</td>\n",
       "      <td>0.290</td>\n",
       "      <td>0.077</td>\n",
       "      <td>0.099099</td>\n",
       "      <td>0.202202</td>\n",
       "      <td>0.302302</td>\n",
       "      <td>0.396396</td>\n",
       "      <td>14.482893</td>\n",
       "      <td>3.013219</td>\n",
       "      <td>844</td>\n",
       "    </tr>\n",
       "    <tr>\n",
       "      <th>2</th>\n",
       "      <td>2</td>\n",
       "      <td>19a463b</td>\n",
       "      <td>2b7da97</td>\n",
       "      <td>27023.0</td>\n",
       "      <td>2927.0</td>\n",
       "      <td>21.641</td>\n",
       "      <td>9.000000</td>\n",
       "      <td>31.028</td>\n",
       "      <td>0.956621</td>\n",
       "      <td>0.005141</td>\n",
       "      <td>...</td>\n",
       "      <td>0.496</td>\n",
       "      <td>0.208</td>\n",
       "      <td>0.192</td>\n",
       "      <td>0.137725</td>\n",
       "      <td>0.387226</td>\n",
       "      <td>0.255489</td>\n",
       "      <td>0.219561</td>\n",
       "      <td>9.620346</td>\n",
       "      <td>10.873572</td>\n",
       "      <td>700</td>\n",
       "    </tr>\n",
       "    <tr>\n",
       "      <th>3</th>\n",
       "      <td>3</td>\n",
       "      <td>1711ab7</td>\n",
       "      <td>5029ed4</td>\n",
       "      <td>8735.0</td>\n",
       "      <td>1039.0</td>\n",
       "      <td>23.110</td>\n",
       "      <td>0.000000</td>\n",
       "      <td>27.734</td>\n",
       "      <td>0.894835</td>\n",
       "      <td>0.000298</td>\n",
       "      <td>...</td>\n",
       "      <td>0.503</td>\n",
       "      <td>0.193</td>\n",
       "      <td>0.215</td>\n",
       "      <td>0.077154</td>\n",
       "      <td>0.308617</td>\n",
       "      <td>0.398798</td>\n",
       "      <td>0.215431</td>\n",
       "      <td>9.383225</td>\n",
       "      <td>10.870809</td>\n",
       "      <td>592</td>\n",
       "    </tr>\n",
       "    <tr>\n",
       "      <th>4</th>\n",
       "      <td>4</td>\n",
       "      <td>1eb4681</td>\n",
       "      <td>b795815</td>\n",
       "      <td>3681.0</td>\n",
       "      <td>365.0</td>\n",
       "      <td>21.985</td>\n",
       "      <td>2.000000</td>\n",
       "      <td>19.673</td>\n",
       "      <td>0.923886</td>\n",
       "      <td>0.000496</td>\n",
       "      <td>...</td>\n",
       "      <td>0.516</td>\n",
       "      <td>0.222</td>\n",
       "      <td>0.230</td>\n",
       "      <td>0.092537</td>\n",
       "      <td>0.362189</td>\n",
       "      <td>0.346269</td>\n",
       "      <td>0.199005</td>\n",
       "      <td>9.543286</td>\n",
       "      <td>14.723926</td>\n",
       "      <td>444</td>\n",
       "    </tr>\n",
       "  </tbody>\n",
       "</table>\n",
       "<p>5 rows × 46 columns</p>\n",
       "</div>"
      ],
      "text/plain": [
       "   row_id county_code    state  population  renter_occupied_households  \\\n",
       "0       0     8e686a7  fb8cab1      3876.0                       408.0   \n",
       "1       1     d1b5fc5  842bd12     10224.0                      1166.0   \n",
       "2       2     19a463b  2b7da97     27023.0                      2927.0   \n",
       "3       3     1711ab7  5029ed4      8735.0                      1039.0   \n",
       "4       4     1eb4681  b795815      3681.0                       365.0   \n",
       "\n",
       "   pct_renter_occupied   evictions  rent_burden  pct_white  pct_af_am  \\\n",
       "0               24.583  397.410526       18.380   0.945945   0.010761   \n",
       "1               28.346    3.000000       26.694   0.808959   0.002284   \n",
       "2               21.641    9.000000       31.028   0.956621   0.005141   \n",
       "3               23.110    0.000000       27.734   0.894835   0.000298   \n",
       "4               21.985    2.000000       19.673   0.923886   0.000496   \n",
       "\n",
       "     ...      pct_female  pct_below_18_years_of_age  \\\n",
       "0    ...           0.471                      0.218   \n",
       "1    ...           0.472                      0.290   \n",
       "2    ...           0.496                      0.208   \n",
       "3    ...           0.503                      0.193   \n",
       "4    ...           0.516                      0.222   \n",
       "\n",
       "   pct_aged_65_years_and_older  pct_adults_less_than_a_high_school_diploma  \\\n",
       "0                        0.190                                    0.083250   \n",
       "1                        0.077                                    0.099099   \n",
       "2                        0.192                                    0.137725   \n",
       "3                        0.215                                    0.077154   \n",
       "4                        0.230                                    0.092537   \n",
       "\n",
       "   pct_adults_with_high_school_diploma  pct_adults_with_some_college  \\\n",
       "0                             0.327984                      0.389168   \n",
       "1                             0.202202                      0.302302   \n",
       "2                             0.387226                      0.255489   \n",
       "3                             0.308617                      0.398798   \n",
       "4                             0.362189                      0.346269   \n",
       "\n",
       "   pct_adults_bachelors_or_higher birth_rate_per_1k death_rate_per_1k  \\\n",
       "0                        0.199599         10.008982          9.752342   \n",
       "1                        0.396396         14.482893          3.013219   \n",
       "2                        0.219561          9.620346         10.873572   \n",
       "3                        0.215431          9.383225         10.870809   \n",
       "4                        0.199005          9.543286         14.723926   \n",
       "\n",
       "  gross_rent  \n",
       "0        577  \n",
       "1        844  \n",
       "2        700  \n",
       "3        592  \n",
       "4        444  \n",
       "\n",
       "[5 rows x 46 columns]"
      ]
     },
     "execution_count": 13,
     "metadata": {},
     "output_type": "execute_result"
    }
   ],
   "source": [
    "#X_train = X_train.replace([np.inf, -np.inf], np.nan).dropna(subset=[\"evictions\"], how=\"all\")\n",
    "train = train.replace([np.inf, -np.inf], np.nan) \n",
    "train['homicides_per_100k'] = train['homicides_per_100k'].fillna(np.mean(train['homicides_per_100k']))\n",
    "train.head(5)"
   ]
  },
  {
   "cell_type": "code",
   "execution_count": 14,
   "metadata": {},
   "outputs": [
    {
     "data": {
      "text/plain": [
       "[]"
      ]
     },
     "execution_count": 14,
     "metadata": {},
     "output_type": "execute_result"
    }
   ],
   "source": [
    "[var for var in train.columns if train[var].isnull().sum()>0]"
   ]
  },
  {
   "cell_type": "code",
   "execution_count": 46,
   "metadata": {},
   "outputs": [
    {
     "data": {
      "image/png": "[encoded data removed]",
      "text/plain": [
       "<Figure size 1080x1080 with 42 Axes>"
      ]
     },
     "metadata": {
      "needs_background": "light"
     },
     "output_type": "display_data"
    }
   ],
   "source": [
    "train.hist(bins=30, figsize=(15,15))\n",
    "plt.suptitle(\"Histogram for each numeric input variable\")\n",
    "#plt.savefig('trainoverview.jpg')\n",
    "plt.show()"
   ]
  },
  {
   "cell_type": "code",
   "execution_count": 15,
   "metadata": {},
   "outputs": [
    {
     "name": "stdout",
     "output_type": "stream",
     "text": [
      "['county_code', 'state', 'rucc', 'urban_influence', 'economic_typology']\n"
     ]
    }
   ],
   "source": [
    "categorical = [var for var in train.columns if train[var].dtype=='O']\n",
    "print(categorical)"
   ]
  },
  {
   "cell_type": "code",
   "execution_count": 16,
   "metadata": {},
   "outputs": [
    {
     "name": "stdout",
     "output_type": "stream",
     "text": [
      "(array(['0005c75', '0027601', '00466f3', '0081051', '00b26ab', '00b32a7',\n",
      "       '00bed13', '01177c9', '0184527', '0191d27', '01a5bb7', '01bb85d',\n",
      "       '01ea87d', '02082d7', '02d7ae1', '0317131', '031cd79', '03227cb',\n",
      "       '0322f7b', '03304e1', '03489a3', '03708d9', '0371c63', '03b6937',\n",
      "       '03bab09', '03c898b', '03cc769', '04173d3', '0433c85', '04567d7',\n",
      "       '045f485', '048d67d', '04c8d09', '04d21c1', '04eab09', '0502d19',\n",
      "       '055e1a9', '0581cf5', '059cccb', '05b757b', '05bf4e5', '0602f87',\n",
      "       '063b6d9', '06874dd', '06a6619', '06a9047', '06d7417', '072036b',\n",
      "       '0740751', '0805949', '089fee9', '08c146f', '08ced25', '0901dbf',\n",
      "       '0921795', '0949087', '097cc29', '098cf1b', '09a2291', '09b6d8f',\n",
      "       '09da751', '09f2ecf', '0a1e7e3', '0a4702d', '0a5080f', '0a95e99',\n",
      "       '0ab72bf', '0b61b03', '0b8d5b7', '0b9df9d', '0bf4cad', '0c26221',\n",
      "       '0c38665', '0c4a7c9', '0c89023', '0cade7f', '0cb9ed5', '0cc0b2d',\n",
      "       '0cd7e4b', '0d03167', '0d5011d', '0d5802b', '0d710f1', '0d95103',\n",
      "       '0dc7c91', '0e1bd1b', '0e90d4d', '0ecf7a5', '0f43d47', '0f484e7',\n",
      "       '0f5d32b', '0f82e57', '0f9f633', '0fad303', '0fb710f', '1018a7d',\n",
      "       '103631f', '1051d37', '1087b93', '1094187', '109af49', '10b45ed',\n",
      "       '1135567', '1175e27', '118ca99', '118ed4d', '11eb66d', '11f57c5',\n",
      "       '12105a1', '121b341', '122e3cb', '125432f', '1267bb5', '132c711',\n",
      "       '1337061', '133ce95', '133efd9', '1380dcb', '1398779', '13a496f',\n",
      "       '13a724b', '144f445', '1450f13', '1485469', '1488b31', '148eadd',\n",
      "       '14aba39', '14cadb5', '151b7a5', '157f723', '15a1a6d', '15baecf',\n",
      "       '15db2f5', '15e834f', '15f4c37', '15fd2cb', '1628d17', '1642bcf',\n",
      "       '1648e77', '167adf9', '16a81f7', '16ed851', '17096ad', '170b0b3',\n",
      "       '1711ab7', '17125a7', '1729011', '172f28f', '17491c9', '174b8a5',\n",
      "       '182cbc9', '1879639', '18c3d17', '18ddd9b', '1900a63', '190cee9',\n",
      "       '1913217', '193b04b', '19a463b', '19b9991', '1a0887f', '1a535f5',\n",
      "       '1a68a17', '1a6a363', '1a6b597', '1a808e9', '1a904ad', '1b59ac5',\n",
      "       '1b89125', '1c2eefd', '1c5eff9', '1c7a85b', '1ce67fb', '1d41dcf',\n",
      "       '1d8f7db', '1d9f383', '1dc29a3', '1dda82f', '1e1fb23', '1e22249',\n",
      "       '1e2d9a3', '1e5f28d', '1e8196f', '1eb4681', '1ebbc33', '1ef98e1',\n",
      "       '1f76077', '1f81bdf', '1fb67b5', '1fbbc05', '1fd0081', '1fd3d77',\n",
      "       '20382e3', '203bc4b', '2100b1b', '2110487', '213fbf5', '2153791',\n",
      "       '216dfcd', '21b2e11', '21dddc5', '220014d', '2203777', '2208c41',\n",
      "       '2279f11', '2291c0b', '22961c3', '22b02e3', '22ea55d', '231139d',\n",
      "       '2322331', '2330d73', '2350ed3', '237959f', '2395097', '23a4fe5',\n",
      "       '23c08e3', '24045b9', '24205e9', '243caed', '2448271', '24b1c7d',\n",
      "       '2500bb9', '25078f7', '2533e27', '254d35b', '25f858f', '26158c1',\n",
      "       '2660a19', '26886b3', '26fad5b', '26fb3ff', '270050d', '2778859',\n",
      "       '277edf9', '279f041', '2804585', '28622ff', '289119d', '28c2c61',\n",
      "       '28e0627', '2900aa5', '294c84f', '2968b2f', '2977205', '2982cef',\n",
      "       '29c7891', '29c9607', '29ef71f', '2a20ac7', '2a51c8d', '2a5871d',\n",
      "       '2a64fc5', '2a6d24b', '2a8cf45', '2ac3561', '2b1ad55', '2b5d4e5',\n",
      "       '2ba12b7', '2bed9bb', '2bfc209', '2bfc345', '2c1c37d', '2c3ee1d',\n",
      "       '2c5638f', '2c57887', '2cbd1cb', '2cc09f9', '2cf1ad7', '2d1c773',\n",
      "       '2d4118b', '2d5a253', '2d693e1', '2d7ebcb', '2d82ef9', '2d86df1',\n",
      "       '2dd1ead', '2ded89d', '2e024bd', '2e90505', '2e9d57d', '2ed2703',\n",
      "       '2ee4cbf', '2effc01', '2f14093', '2f146d9', '2f31ea7', '2f44273',\n",
      "       '2f5ee35', '2fa2d23', '2fc0f8b', '2fca97b', '2fd9453', '2ff0b1f',\n",
      "       '3000627', '3048293', '308b34f', '30d2dad', '310274f', '31157c3',\n",
      "       '317e4ed', '31b9123', '31c0feb', '31c5add', '31d2cdb', '3224ac3',\n",
      "       '32649b7', '327cf27', '3281fa1', '32a6efb', '32d6d67', '32f0461',\n",
      "       '3310091', '3380c19', '3415d3f', '34d700b', '3551f73', '3566a99',\n",
      "       '3578dc9', '35c67d7', '35df397', '362f9b3', '363fcfb', '3660359',\n",
      "       '36772dd', '36eb31b', '36ef363', '36fdc51', '3726a45', '377ef9d',\n",
      "       '3782e53', '37b0ca9', '37bc687', '37d2bb7', '37f06df', '37f082f',\n",
      "       '380aee1', '3810fc5', '3831f37', '383827b', '3874ac7', '3897d89',\n",
      "       '38a0241', '38bf2cd', '38ccdfd', '38fb2ef', '38fd625', '3900385',\n",
      "       '394b35b', '39a5bb3', '39bc7eb', '39d798b', '39f7847', '3a17925',\n",
      "       '3a3a857', '3a90851', '3aa4dfb', '3aab157', '3acdb03', '3b069a1',\n",
      "       '3b11789', '3b17203', '3b35803', '3b5c003', '3b62885', '3b9505f',\n",
      "       '3bb2dbd', '3be223d', '3be87d9', '3c4db81', '3c627a3', '3c7e7b9',\n",
      "       '3cc65a1', '3cc98e3', '3cf2bc5', '3d04489', '3d10a37', '3d578bf',\n",
      "       '3d5d1b7', '3da07c1', '3db91c3', '3dee4a3', '3e65795', '3eb3e7d',\n",
      "       '3ecb3cd', '3ee6435', '3f05bfb', '3f19637', '3f8181b', '3f99ec1',\n",
      "       '3fa9943', '4020a8f', '404829d', '40488c9', '4053ded', '407514f',\n",
      "       '40f68a3', '41c01f1', '41cd617', '41cff5f', '424ac2b', '4268c79',\n",
      "       '426bbb1', '42a3d5f', '42a96f5', '4308afb', '431808f', '432054d',\n",
      "       '4336613', '43a8d31', '43ab731', '43b66dd', '43e04c7', '43ec84b',\n",
      "       '43f5d11', '44280fb', '4491dd9', '44b929d', '450fc1f', '454aabf',\n",
      "       '454e085', '45e4b91', '45fd73f', '4707c9b', '470a82d', '471da81',\n",
      "       '476e5ad', '47754b3', '47d466b', '4823d53', '48532db', '485f691',\n",
      "       '486924f', '48fa503', '491d103', '49e4d3b', '49f2765', '4a00211',\n",
      "       '4a66981', '4a8004d', '4ad03fb', '4ad3c0f', '4adbae1', '4af0369',\n",
      "       '4b22ff9', '4b282af', '4b77ea7', '4b8728d', '4ba219d', '4bb5fed',\n",
      "       '4bba249', '4bcc45b', '4c12777', '4c20e6f', '4c210c9', '4c3779f',\n",
      "       '4c6161b', '4c6282f', '4ce2f31', '4cf55e1', '4d0d345', '4def73f',\n",
      "       '4df9659', '4e0c115', '4e5ef39', '4e857e9', '4e96869', '4e9b0c3',\n",
      "       '4ecf983', '4ed89db', '4f16ba5', '4fe59e9', '50642cd', '507986d',\n",
      "       '50a03c9', '50d2e85', '50e5e83', '50f2e9b', '5182b33', '5183229',\n",
      "       '5186e87', '519c92f', '51afca9', '51e1905', '51e2e4d', '51f1799',\n",
      "       '520994d', '5265bcb', '527ee03', '52a77d1', '5300a59', '534c8b7',\n",
      "       '53952a1', '53c60b5', '53cff1d', '53f2105', '540b485', '5410a33',\n",
      "       '54275a3', '542cb15', '545ccb9', '54a64a1', '54caea9', '5522233',\n",
      "       '555fe97', '55705b1', '5576913', '5577faf', '558cad5', '55d1721',\n",
      "       '55e65a3', '561ea23', '5653515', '5665dd9', '5673b41', '568b173',\n",
      "       '56b1521', '5746c41', '579b419', '57be33d', '5829eab', '583ef47',\n",
      "       '5840fdd', '58462e7', '584a23f', '5876167', '58b4b35', '58d1c1f',\n",
      "       '58f27a7', '59226ad', '5968e43', '598b4d5', '598e5a9', '5992637',\n",
      "       '59bc6f3', '59e2a09', '5a61009', '5a623ef', '5a72ab5', '5a9c263',\n",
      "       '5ab02a1', '5ac6c59', '5b36baf', '5b4436d', '5b64c77', '5b9f3ad',\n",
      "       '5bab4dd', '5bdd7ab', '5c4ecc1', '5c62775', '5c889bd', '5c89c79',\n",
      "       '5ccb4ff', '5d2122f', '5d4282d', '5d9d309', '5dc6a45', '5dc86cb',\n",
      "       '5dde11f', '5de59e3', '5de65c1', '5e41e43', '5e544b9', '5e54711',\n",
      "       '5eb6849', '5ed625b', '5eed289', '5f04f53', '5fa6687', '5fcbae1',\n",
      "       '60123bb', '6074b91', '60f9df3', '612dd09', '61492bf', '614c4fb',\n",
      "       '6163d6f', '61765f5', '618f20f', '6190dfd', '620ffab', '6220fe5',\n",
      "       '6259bdb', '62c16b7', '62c7e21', '62cb873', '62d9c59', '62dc2dd',\n",
      "       '630972f', '6313c6b', '6330c05', '636282b', '6368bbb', '637e05d',\n",
      "       '641f8ad', '642ed71', '646bec7', '647281f', '6489f8d', '64fc7e5',\n",
      "       '650ba33', '65122a5', '6526e9f', '6531515', '65b4c4d', '65c21ff',\n",
      "       '6640a75', '668a0e7', '66ba03d', '66faae3', '678b4b5', '678ba39',\n",
      "       '67a40cf', '67a5c01', '67abb79', '682ce67', '684d1d1', '684ddc5',\n",
      "       '6861513', '68655c5', '68a3245', '68cdb31', '68e20a1', '68f62a1',\n",
      "       '6905b37', '6913eb5', '6938a5d', '693db25', '69e6a8b', '69f7dd1',\n",
      "       '6a31ecf', '6a5e027', '6a6453b', '6a6aefd', '6a72569', '6aebc23',\n",
      "       '6afba47', '6b1bd3d', '6b29733', '6b7030d', '6b85315', '6b9af13',\n",
      "       '6baf001', '6c3d2eb', '6c45111', '6c4cc35', '6c575d3', '6c5ae9d',\n",
      "       '6c5c6c5', '6c5de1f', '6c94fe1', '6cae293', '6cb8f79', '6cbc489',\n",
      "       '6cc5e47', '6ce63f5', '6db00e5', '6db197d', '6db604d', '6df35c1',\n",
      "       '6df9037', '6e49271', '6e57109', '6e92beb', '6e9cef9', '6ea94cf',\n",
      "       '6ef29e7', '6ef5d81', '6f2c149', '6f4cd71', '6fff8b3', '7008abb',\n",
      "       '700f237', '7099c95', '70a89bd', '70a9e6d', '70e55ef', '70ef98f',\n",
      "       '70fb683', '7115cb5', '7144ce3', '7148511', '7189e3d', '718b409',\n",
      "       '71b3a0f', '722d405', '72c76c5', '72ca4e9', '72ef953', '72f21dd',\n",
      "       '73054dd', '7305607', '7310367', '73186ad', '733c1fd', '7370287',\n",
      "       '73927cd', '7398975', '73b526d', '73bc43d', '73c5f03', '73db0d7',\n",
      "       '73f8b53', '747c189', '74a73db', '74ab1f3', '74e97f3', '750bda7',\n",
      "       '7516a19', '7523e1d', '7531825', '759b7c3', '75a6425', '75ae079',\n",
      "       '75bdea7', '75dbc8d', '75ec207', '761911f', '761c543', '7647c5d',\n",
      "       '769f539', '76a7cd7', '76ff4a9', '77625f5', '77caba3', '78131df',\n",
      "       '781f349', '78296f7', '7850141', '7852d75', '789fe9b', '78c98dd',\n",
      "       '78d1999', '78d2229', '7942367', '797c44d', '798370b', '798c659',\n",
      "       '79a91e9', '79dd1ff', '79ff1df', '7a21a53', '7a6ae59', '7a77505',\n",
      "       '7a86c89', '7b5c97b', '7b65bd5', '7b73f2d', '7be32d9', '7c05d29',\n",
      "       '7c0dcfd', '7c450d1', '7c45b2b', '7c5012d', '7c5163d', '7cde341',\n",
      "       '7ce11c5', '7cf454f', '7d11d67', '7d45733', '7d70099', '7de9123',\n",
      "       '7e09f61', '7e1de7d', '7e4b5ad', '7e569d5', '7ea4ea7', '7f03a03',\n",
      "       '7f05605', '7f24f27', '7f31681', '7f4746d', '7f5da9b', '7fa2453',\n",
      "       '7fb50bf', '801dbc1', '8020535', '802a8ff', '802cc0d', '804664b',\n",
      "       '8047b9b', '80d251b', '81526c7', '816b1f7', '8170d7f', '81af775',\n",
      "       '81d0c11', '827ea49', '8282823', '82cf025', '8313a3f', '83267bf',\n",
      "       '8340025', '83845e9', '83adc69', '83b1607', '83c1551', '83d39d7',\n",
      "       '83ec44b', '83fdd3b', '84009ff', '8417d01', '8421669', '844f1c9',\n",
      "       '84678cf', '8492049', '84d62c1', '84ea075', '84fc75b', '8527a0d',\n",
      "       '8549ffd', '8556af5', '85ae3a5', '85c47d7', '85c7725', '860f1d5',\n",
      "       '867cd57', '8698367', '86fe9c7', '8709c23', '8771a15', '87c9c2f',\n",
      "       '87ca599', '87d898f', '882abcb', '8851ad9', '8859193', '888d3ad',\n",
      "       '88ac979', '88d5889', '88e70b5', '88e880d', '88faf13', '890d557',\n",
      "       '8919d15', '8922821', '893df1d', '8949803', '89bec5d', '89c56db',\n",
      "       '8a15c79', '8a2887d', '8a3b223', '8a64a33', '8a6d19d', '8ab6cdb',\n",
      "       '8ab763f', '8af78b7', '8b04dc5', '8b1171d', '8b1cb7d', '8b63d99',\n",
      "       '8b6b443', '8b9c655', '8bae6cd', '8bcc611', '8bf6f8b', '8c1c377',\n",
      "       '8c2f513', '8c37b69', '8c7102b', '8d0c733', '8d10363', '8d48f47',\n",
      "       '8d725d7', '8d952b1', '8dbf5cf', '8dd5451', '8e46b53', '8e686a7',\n",
      "       '8e9f18b', '8ea2d3d', '8ea3391', '8ebc0ab', '8eec977', '8f0933f',\n",
      "       '8f25247', '8f3100d', '8f894e9', '8f9f691', '8fb9695', '8fe7d8f',\n",
      "       '9026d0f', '906bc83', '9084643', '9084d1d', '9094161', '90dea49',\n",
      "       '9122633', '9144e3f', '914eca9', '91538e5', '91c3edf', '9232e79',\n",
      "       '92835e7', '92c18db', '93069af', '93354e5', '935e525', '93660a5',\n",
      "       '93b2137', '942f61d', '944dad3', '948096f', '94b250f', '94bf8c1',\n",
      "       '94bfe97', '94cd779', '94e9109', '94edb57', '94f218d', '9504f89',\n",
      "       '9565053', '95ee8ef', '95fa82b', '961d3a7', '964908d', '965e86b',\n",
      "       '966d12f', '96964e7', '96a549d', '96d5ef5', '9747051', '97681d3',\n",
      "       '977d4e3', '9784bd7', '978d233', '97a98fd', '97fba1f', '983a6cf',\n",
      "       '984c707', '98863bb', '98b941b', '98d1c91', '98d529b', '98f83df',\n",
      "       '9915611', '99752f3', '998a9ab', '998be37', '99941b5', '99e360d',\n",
      "       '9a12bc7', '9a21e87', '9a40429', '9a4bd4b', '9a5502b', '9a6bd4f',\n",
      "       '9aa3de3', '9ae18bd', '9b37949', '9b53095', '9b5d201', '9b5ed39',\n",
      "       '9c249d3', '9c30599', '9c5a579', '9c80f3f', '9c8b11f', '9cc10dd',\n",
      "       '9d04a77', '9d13365', '9d1bb21', '9d34ae9', '9d51517', '9d5c205',\n",
      "       '9d68ed9', '9d79897', '9db9d6f', '9dba1bf', '9deea09', '9e029ed',\n",
      "       '9e3d62b', '9e8cfd7', '9e8fcd3', '9eae525', '9eda843', '9ee6a4d',\n",
      "       '9f14c1f', '9f25e3b', '9f54aed', '9f780df', '9ff7679', '9ffbb53',\n",
      "       'a002293', 'a02a8b1', 'a06cf7f', 'a06eecd', 'a0711c9', 'a083825',\n",
      "       'a0b1eb5', 'a0be9e3', 'a0ce3f7', 'a14fe81', 'a1ac313', 'a1bf7f3',\n",
      "       'a228e11', 'a247e4b', 'a30f8df', 'a310b65', 'a37d377', 'a391f51',\n",
      "       'a3bca1d', 'a48f4a1', 'a4945e5', 'a4c5413', 'a504579', 'a563981',\n",
      "       'a588789', 'a58d3dd', 'a593577', 'a5bcf67', 'a6115c1', 'a6391df',\n",
      "       'a6c71df', 'a6c8add', 'a6f2901', 'a70db85', 'a731bbf', 'a78b1ef',\n",
      "       'a7e2ee3', 'a7ff843', 'a835cc9', 'a844e5f', 'a876629', 'a891b8f',\n",
      "       'a899acf', 'a8ccb43', 'a8ce117', 'a92ea8f', 'a97869b', 'a99685b',\n",
      "       'a9acbe7', 'a9d7821', 'aa126c7', 'aa2c055', 'aa3f82b', 'aa5fa21',\n",
      "       'aaa1773', 'aada3f9', 'aae53a3', 'aaf8bf7', 'abe2dad', 'abf2b6d',\n",
      "       'abf4919', 'abf992b', 'ac1b619', 'ac20dc9', 'ac3ba27', 'acba287',\n",
      "       'acdebb5', 'ad467e5', 'adacfc3', 'adc87ab', 'add2225', 'ae1b883',\n",
      "       'ae26b6d', 'ae4dd4b', 'ae7add7', 'ae92275', 'aee9b93', 'af08711',\n",
      "       'af11a3f', 'afa4175', 'afa46b1', 'afba46f', 'afcad1d', 'afcf089',\n",
      "       'aff8f6d', 'b02ec11', 'b0c9035', 'b144a39', 'b1614ed', 'b161a99',\n",
      "       'b2003b5', 'b2281b7', 'b2306dd', 'b230fb9', 'b23106d', 'b263e09',\n",
      "       'b2ab4d9', 'b2b09f1', 'b2be407', 'b2f85bf', 'b301c5b', 'b31c3a1',\n",
      "       'b357649', 'b38abff', 'b3994af', 'b3b6231', 'b4141d3', 'b4187cb',\n",
      "       'b42ecbb', 'b463a07', 'b4ac43f', 'b4bc2f1', 'b5650c7', 'b5711af',\n",
      "       'b578f05', 'b58c93f', 'b5b1a05', 'b5b5c19', 'b62af83', 'b638d31',\n",
      "       'b66aeb7', 'b675389', 'b6874f1', 'b6a1b11', 'b6a2ac7', 'b6b951d',\n",
      "       'b6cdc1f', 'b711ffb', 'b72bfdf', 'b77252b', 'b775561', 'b77d307',\n",
      "       'b77da0f', 'b77eae5', 'b790421', 'b7a18c7', 'b7b68a7', 'b7c2cc1',\n",
      "       'b7c3997', 'b821cc9', 'b83d4ad', 'b857411', 'b8c4f95', 'b8ec983',\n",
      "       'b946ff5', 'b99f7e5', 'b9b919f', 'b9d5141', 'ba1e30d', 'baa4ebd',\n",
      "       'baeffbb', 'bb2203d', 'bb2de03', 'bb6bc67', 'bba93cf', 'bbb9219',\n",
      "       'bbda09b', 'bbf2d8d', 'bc0c717', 'bc192e7', 'bc1c51f', 'bc1fb7b',\n",
      "       'bc3f21f', 'bc9fdf7', 'bcbc27d', 'bcbd98f', 'bcd75db', 'bcf30c7',\n",
      "       'bd9ad89', 'bdca0d3', 'be29ba1', 'be519b1', 'be851a9', 'be9409b',\n",
      "       'be97f1b', 'bee3ae7', 'bf2311b', 'bf29927', 'bf39395', 'bf5c02d',\n",
      "       'bf9af23', 'bfce143', 'c03ba95', 'c04f52f', 'c0a2491', 'c0aa1b9',\n",
      "       'c11aafb', 'c1399f3', 'c15b6a5', 'c15c4d9', 'c16982f', 'c1e7003',\n",
      "       'c1fb191', 'c236959', 'c24dcfb', 'c280f07', 'c2b0f2b', 'c2d8ae5',\n",
      "       'c37186f', 'c38a51d', 'c3e50a1', 'c403b91', 'c40705f', 'c40decd',\n",
      "       'c49fe65', 'c4ae9ff', 'c4e9429', 'c522285', 'c54d243', 'c5c7967',\n",
      "       'c5d6ab3', 'c5dd047', 'c5f74b7', 'c604e53', 'c612863', 'c61fa8d',\n",
      "       'c66553f', 'c6a8951', 'c6d61bf', 'c700fe1', 'c71234b', 'c76b41b',\n",
      "       'c78a3a3', 'c7bda89', 'c811a11', 'c818403', 'c81f50d', 'c8c0697',\n",
      "       'c8e07eb', 'c90c6cd', 'c91785f', 'c91b567', 'c933159', 'c9481c3',\n",
      "       'c9bcf15', 'c9c71e7', 'ca1b6f3', 'ca22021', 'cab547f', 'cb00993',\n",
      "       'cb06d23', 'cb3e3d3', 'cbd1c87', 'cbd4bc3', 'cbdb0d3', 'cbea291',\n",
      "       'cc1c0b9', 'cc3e573', 'cc41ae1', 'cc4ffcd', 'cc52667', 'cc7651b',\n",
      "       'cc9e8c3', 'ccd32ab', 'ccf860d', 'cd241c1', 'cd3e5a5', 'cd62793',\n",
      "       'cd6a3ff', 'cd8dcbf', 'cdca3e3', 'cdcc58d', 'ce0f78f', 'ce2b3c7',\n",
      "       'ce32b8b', 'ce3aabd', 'ce6248b', 'ce82809', 'cebd9eb', 'ced09ad',\n",
      "       'cef221b', 'cf3b2dd', 'cf492f5', 'cf59c11', 'cf5c545', 'cfe2429',\n",
      "       'd05a0b5', 'd0671bb', 'd069cab', 'd08d9a9', 'd0cbadb', 'd0f9f3b',\n",
      "       'd1320db', 'd14338b', 'd152c87', 'd16e2df', 'd176bd3', 'd1b5fc5',\n",
      "       'd1bb875', 'd1bca8b', 'd1e359b', 'd27aeaf', 'd281769', 'd2dfc0d',\n",
      "       'd2ee4ab', 'd30a493', 'd31aea9', 'd36dead', 'd3c4df1', 'd3d7d69',\n",
      "       'd3e9bd7', 'd45e68b', 'd465f03', 'd46d50b', 'd49617d', 'd4a043b',\n",
      "       'd4a4f95', 'd4dc72d', 'd4ed69b', 'd502075', 'd530467', 'd565c57',\n",
      "       'd5751bd', 'd5b0571', 'd5b2b39', 'd5e95f5', 'd6001d7', 'd722a19',\n",
      "       'd7b68bf', 'd85fd81', 'd916f27', 'd968a45', 'd972b6d', 'd9b2e21',\n",
      "       'd9bd209', 'd9e30bb', 'da1a2a9', 'da2759f', 'da2e0ef', 'da6731b',\n",
      "       'da70075', 'da71b3f', 'da9fc5f', 'daada87', 'dab4715', 'dafe063',\n",
      "       'db260ff', 'db98445', 'dbee665', 'dc0571b', 'dc11a9b', 'dc2a65d',\n",
      "       'dc2af1d', 'dc2bd7d', 'dc36d9f', 'dc961d9', 'dcade95', 'dce584b',\n",
      "       'dd00e55', 'dd505b9', 'dd74ec7', 'dda3a6f', 'ddb7969', 'ddeb143',\n",
      "       'de0156d', 'de0a42d', 'de14679', 'de37db5', 'de859fd', 'de9198d',\n",
      "       'de93449', 'deafc99', 'deb993f', 'def2847', 'df439c3', 'df7642f',\n",
      "       'dfa7617', 'dfbef9b', 'e0041b7', 'e01a14f', 'e0370f9', 'e043b4f',\n",
      "       'e077df9', 'e0858a9', 'e0c15a7', 'e0cc90f', 'e0f1b57', 'e10b469',\n",
      "       'e117b4d', 'e126f4d', 'e137503', 'e172997', 'e1836d9', 'e1cbd43',\n",
      "       'e1f74dd', 'e1fa62d', 'e21978b', 'e22dfad', 'e233da9', 'e23b96b',\n",
      "       'e24aadb', 'e257015', 'e293283', 'e2a65ed', 'e2bbffb', 'e2d3781',\n",
      "       'e2d5e71', 'e321137', 'e339fd1', 'e34c58f', 'e368941', 'e36fd91',\n",
      "       'e3e9623', 'e4091a7', 'e41eb91', 'e46e2df', 'e46f879', 'e4a3849',\n",
      "       'e4ab39b', 'e4d070d', 'e4ed90f', 'e509aed', 'e50f401', 'e552c19',\n",
      "       'e5a2295', 'e5b30cb', 'e5dc957', 'e60433f', 'e6610e7', 'e6e9351',\n",
      "       'e6f55b7', 'e72d3f3', 'e75e6bb', 'e7ca865', 'e81d4e5', 'e839a53',\n",
      "       'e840e47', 'e84fbfd', 'e887345', 'e896007', 'e8d376b', 'e8dc49b',\n",
      "       'e910ab5', 'e9349f3', 'e968c93', 'e97a66b', 'e9edd9d', 'e9f4bc5',\n",
      "       'e9f68b5', 'e9fa62b', 'e9fd871', 'ea7fb17', 'eaa7825', 'eaae16b',\n",
      "       'eaec827', 'eaf1335', 'eb1cb0b', 'eb42e31', 'eb5a445', 'eb80763',\n",
      "       'eb9f97d', 'ebd5a1b', 'ebe0047', 'ec4634b', 'ec4643f', 'ec645a3',\n",
      "       'ec75805', 'ecb697f', 'ecd66a1', 'ece4b49', 'ece7e97', 'ed2e781',\n",
      "       'ed89db7', 'ed945a7', 'edb974f', 'ede04e3', 'ee004b9', 'ee532a9',\n",
      "       'ee54d27', 'ee5cbdf', 'ee90ebd', 'eec9845', 'eef588d', 'ef2d0f9',\n",
      "       'ef9a675', 'f008533', 'f013551', 'f01358d', 'f02b92d', 'f03d24f',\n",
      "       'f068f81', 'f09ff09', 'f11285d', 'f117e29', 'f124bef', 'f136239',\n",
      "       'f13dca1', 'f179e05', 'f187c0f', 'f18d3db', 'f1c336f', 'f1ca971',\n",
      "       'f209f6d', 'f22a56d', 'f2607e5', 'f27d73d', 'f2aecb3', 'f2cd5ad',\n",
      "       'f2cf505', 'f2db34f', 'f316e2f', 'f332737', 'f34b543', 'f37710d',\n",
      "       'f39ef59', 'f3bc345', 'f3eaff7', 'f40333f', 'f43450f', 'f4652c3',\n",
      "       'f490ef9', 'f4a4d85', 'f4a82e9', 'f4bf875', 'f507985', 'f564699',\n",
      "       'f57c0c7', 'f592e2d', 'f59fa79', 'f5f2757', 'f61f365', 'f62fc23',\n",
      "       'f6351d3', 'f63587f', 'f67e07d', 'f68fe0f', 'f6b5d25', 'f720db3',\n",
      "       'f730f25', 'f73ed27', 'f7883ad', 'f7a1f69', 'f7b7a89', 'f7e78bd',\n",
      "       'f7e9a2d', 'f7fdb01', 'f80e9a7', 'f825ccd', 'f857c81', 'f896687',\n",
      "       'f8b10a9', 'f90b2ed', 'f90c4d1', 'f930b63', 'f944959', 'f97a949',\n",
      "       'fa2fa0b', 'fa3f06d', 'fa592ef', 'fa5a457', 'faa5339', 'faf98b9',\n",
      "       'fb048bb', 'fb0e493', 'fb55527', 'fb80a2d', 'fb86961', 'fbccff5',\n",
      "       'fc12e7d', 'fc2bf1d', 'fc3bf3d', 'fc45405', 'fc56061', 'fc9bea3',\n",
      "       'fcae211', 'fceb647', 'fd06d9f', 'fd9d109', 'fdb861d', 'fdc9391',\n",
      "       'fe984e1', 'fed752d', 'feeb659', 'ff00193', 'ff339db', 'ff7017b',\n",
      "       'ffaffbd', 'ffc73b1'], dtype=object), array([1, 1, 1, 1, 1, 1, 1, 1, 1, 1, 1, 1, 1, 1, 1, 1, 1, 1, 1, 1, 1, 1,\n",
      "       1, 1, 1, 1, 1, 1, 1, 1, 1, 1, 1, 1, 1, 1, 1, 1, 1, 1, 1, 1, 1, 1,\n",
      "       1, 1, 1, 1, 1, 1, 1, 1, 1, 1, 1, 1, 1, 1, 1, 1, 1, 1, 1, 1, 1, 1,\n",
      "       1, 1, 1, 1, 1, 1, 1, 1, 1, 1, 1, 1, 1, 1, 1, 1, 1, 1, 1, 1, 1, 1,\n",
      "       1, 1, 1, 1, 1, 1, 1, 1, 1, 1, 1, 1, 1, 1, 1, 1, 1, 1, 1, 1, 1, 1,\n",
      "       1, 1, 1, 1, 1, 1, 1, 1, 1, 1, 1, 1, 1, 1, 1, 1, 1, 1, 1, 1, 1, 1,\n",
      "       1, 1, 1, 1, 1, 1, 1, 1, 1, 1, 1, 1, 1, 1, 1, 1, 1, 1, 1, 1, 1, 1,\n",
      "       1, 1, 1, 1, 1, 1, 1, 1, 1, 1, 1, 1, 1, 1, 1, 1, 1, 1, 1, 1, 1, 1,\n",
      "       1, 1, 1, 1, 1, 1, 1, 1, 1, 1, 1, 1, 1, 1, 1, 1, 1, 1, 1, 1, 1, 1,\n",
      "       1, 1, 1, 1, 1, 1, 1, 1, 1, 1, 1, 1, 1, 1, 1, 1, 1, 1, 1, 1, 1, 1,\n",
      "       1, 1, 1, 1, 1, 1, 1, 1, 1, 1, 1, 1, 1, 1, 1, 1, 1, 1, 1, 1, 1, 1,\n",
      "       1, 1, 1, 1, 1, 1, 1, 1, 1, 1, 1, 1, 1, 1, 1, 1, 1, 1, 1, 1, 1, 1,\n",
      "       1, 1, 1, 1, 1, 1, 1, 1, 1, 1, 1, 1, 1, 1, 1, 1, 1, 1, 1, 1, 1, 1,\n",
      "       1, 1, 1, 1, 1, 1, 1, 1, 1, 1, 1, 1, 1, 1, 1, 1, 1, 1, 1, 1, 1, 1,\n",
      "       1, 1, 1, 1, 1, 1, 1, 1, 1, 1, 1, 1, 1, 1, 1, 1, 1, 1, 1, 1, 1, 1,\n",
      "       1, 1, 1, 1, 1, 1, 1, 1, 1, 1, 1, 1, 1, 1, 1, 1, 1, 1, 1, 1, 1, 1,\n",
      "       1, 1, 1, 1, 1, 1, 1, 1, 1, 1, 1, 1, 1, 1, 1, 1, 1, 1, 1, 1, 1, 1,\n",
      "       1, 1, 1, 1, 1, 1, 1, 1, 1, 1, 1, 1, 1, 1, 1, 1, 1, 1, 1, 1, 1, 1,\n",
      "       1, 1, 1, 1, 1, 1, 1, 1, 1, 1, 1, 1, 1, 1, 1, 1, 1, 1, 1, 1, 1, 1,\n",
      "       1, 1, 1, 1, 1, 1, 1, 1, 1, 1, 1, 1, 1, 1, 1, 1, 1, 1, 1, 1, 1, 1,\n",
      "       1, 1, 1, 1, 1, 1, 1, 1, 1, 1, 1, 1, 1, 1, 1, 1, 1, 1, 1, 1, 1, 1,\n",
      "       1, 1, 1, 1, 1, 1, 1, 1, 1, 1, 1, 1, 1, 1, 1, 1, 1, 1, 1, 1, 1, 1,\n",
      "       1, 1, 1, 1, 1, 1, 1, 1, 1, 1, 1, 1, 1, 1, 1, 1, 1, 1, 1, 1, 1, 1,\n",
      "       1, 1, 1, 1, 1, 1, 1, 1, 1, 1, 1, 1, 1, 1, 1, 1, 1, 1, 1, 1, 1, 1,\n",
      "       1, 1, 1, 1, 1, 1, 1, 1, 1, 1, 1, 1, 1, 1, 1, 1, 1, 1, 1, 1, 1, 1,\n",
      "       1, 1, 1, 1, 1, 1, 1, 1, 1, 1, 1, 1, 1, 1, 1, 1, 1, 1, 1, 1, 1, 1,\n",
      "       1, 1, 1, 1, 1, 1, 1, 1, 1, 1, 1, 1, 1, 1, 1, 1, 1, 1, 1, 1, 1, 1,\n",
      "       1, 1, 1, 1, 1, 1, 1, 1, 1, 1, 1, 1, 1, 1, 1, 1, 1, 1, 1, 1, 1, 1,\n",
      "       1, 1, 1, 1, 1, 1, 1, 1, 1, 1, 1, 1, 1, 1, 1, 1, 1, 1, 1, 1, 1, 1,\n",
      "       1, 1, 1, 1, 1, 1, 1, 1, 1, 1, 1, 1, 1, 1, 1, 1, 1, 1, 1, 1, 1, 1,\n",
      "       1, 1, 1, 1, 1, 1, 1, 1, 1, 1, 1, 1, 1, 1, 1, 1, 1, 1, 1, 1, 1, 1,\n",
      "       1, 1, 1, 1, 1, 1, 1, 1, 1, 1, 1, 1, 1, 1, 1, 1, 1, 1, 1, 1, 1, 1,\n",
      "       1, 1, 1, 1, 1, 1, 1, 1, 1, 1, 1, 1, 1, 1, 1, 1, 1, 1, 1, 1, 1, 1,\n",
      "       1, 1, 1, 1, 1, 1, 1, 1, 1, 1, 1, 1, 1, 1, 1, 1, 1, 1, 1, 1, 1, 1,\n",
      "       1, 1, 1, 1, 1, 1, 1, 1, 1, 1, 1, 1, 1, 1, 1, 1, 1, 1, 1, 1, 1, 1,\n",
      "       1, 1, 1, 1, 1, 1, 1, 1, 1, 1, 1, 1, 1, 1, 1, 1, 1, 1, 1, 1, 1, 1,\n",
      "       1, 1, 1, 1, 1, 1, 1, 1, 1, 1, 1, 1, 1, 1, 1, 1, 1, 1, 1, 1, 1, 1,\n",
      "       1, 1, 1, 1, 1, 1, 1, 1, 1, 1, 1, 1, 1, 1, 1, 1, 1, 1, 1, 1, 1, 1,\n",
      "       1, 1, 1, 1, 1, 1, 1, 1, 1, 1, 1, 1, 1, 1, 1, 1, 1, 1, 1, 1, 1, 1,\n",
      "       1, 1, 1, 1, 1, 1, 1, 1, 1, 1, 1, 1, 1, 1, 1, 1, 1, 1, 1, 1, 1, 1,\n",
      "       1, 1, 1, 1, 1, 1, 1, 1, 1, 1, 1, 1, 1, 1, 1, 1, 1, 1, 1, 1, 1, 1,\n",
      "       1, 1, 1, 1, 1, 1, 1, 1, 1, 1, 1, 1, 1, 1, 1, 1, 1, 1, 1, 1, 1, 1,\n",
      "       1, 1, 1, 1, 1, 1, 1, 1, 1, 1, 1, 1, 1, 1, 1, 1, 1, 1, 1, 1, 1, 1,\n",
      "       1, 1, 1, 1, 1, 1, 1, 1, 1, 1, 1, 1, 1, 1, 1, 1, 1, 1, 1, 1, 1, 1,\n",
      "       1, 1, 1, 1, 1, 1, 1, 1, 1, 1, 1, 1, 1, 1, 1, 1, 1, 1, 1, 1, 1, 1,\n",
      "       1, 1, 1, 1, 1, 1, 1, 1, 1, 1, 1, 1, 1, 1, 1, 1, 1, 1, 1, 1, 1, 1,\n",
      "       1, 1, 1, 1, 1, 1, 1, 1, 1, 1, 1, 1, 1, 1, 1, 1, 1, 1, 1, 1, 1, 1,\n",
      "       1, 1, 1, 1, 1, 1, 1, 1, 1, 1, 1, 1, 1, 1, 1, 1, 1, 1, 1, 1, 1, 1,\n",
      "       1, 1, 1, 1, 1, 1, 1, 1, 1, 1, 1, 1, 1, 1, 1, 1, 1, 1, 1, 1, 1, 1,\n",
      "       1, 1, 1, 1, 1, 1, 1, 1, 1, 1, 1, 1, 1, 1, 1, 1, 1, 1, 1, 1, 1, 1,\n",
      "       1, 1, 1, 1, 1, 1, 1, 1, 1, 1, 1, 1, 1, 1, 1, 1, 1, 1, 1, 1, 1, 1,\n",
      "       1, 1, 1, 1, 1, 1, 1, 1, 1, 1, 1, 1, 1, 1, 1, 1, 1, 1, 1, 1, 1, 1,\n",
      "       1, 1, 1, 1, 1, 1, 1, 1, 1, 1, 1, 1, 1, 1, 1, 1, 1, 1, 1, 1, 1, 1,\n",
      "       1, 1, 1, 1, 1, 1, 1, 1, 1, 1, 1, 1, 1, 1, 1, 1, 1, 1, 1, 1, 1, 1,\n",
      "       1, 1, 1, 1, 1, 1, 1, 1, 1, 1, 1, 1, 1, 1, 1, 1, 1, 1, 1, 1, 1, 1,\n",
      "       1, 1, 1, 1, 1, 1, 1, 1, 1, 1, 1, 1, 1, 1, 1, 1, 1, 1, 1, 1, 1, 1,\n",
      "       1, 1, 1, 1, 1, 1, 1, 1, 1, 1, 1, 1, 1, 1, 1, 1, 1, 1, 1, 1, 1, 1,\n",
      "       1, 1, 1, 1, 1, 1, 1, 1, 1, 1, 1, 1, 1, 1, 1, 1, 1, 1, 1, 1, 1, 1,\n",
      "       1, 1, 1, 1, 1, 1, 1, 1, 1, 1, 1, 1, 1, 1, 1, 1, 1, 1, 1, 1, 1, 1,\n",
      "       1, 1, 1, 1, 1, 1, 1, 1, 1, 1, 1, 1, 1, 1, 1, 1, 1, 1, 1, 1, 1, 1,\n",
      "       1, 1, 1, 1, 1, 1, 1, 1, 1, 1, 1, 1, 1, 1, 1, 1, 1, 1, 1, 1, 1, 1,\n",
      "       1, 1, 1, 1, 1, 1, 1, 1, 1, 1, 1, 1, 1, 1, 1, 1, 1, 1, 1, 1, 1, 1,\n",
      "       1, 1, 1, 1, 1, 1, 1, 1, 1, 1, 1, 1, 1, 1, 1, 1, 1, 1, 1, 1, 1, 1,\n",
      "       1, 1, 1, 1, 1, 1, 1, 1, 1, 1, 1, 1, 1, 1, 1, 1, 1, 1, 1, 1, 1, 1,\n",
      "       1, 1, 1, 1, 1, 1, 1, 1, 1, 1, 1, 1, 1, 1, 1, 1, 1, 1, 1, 1, 1, 1,\n",
      "       1, 1, 1, 1, 1, 1, 1, 1, 1, 1, 1, 1, 1, 1, 1, 1, 1, 1, 1, 1, 1, 1,\n",
      "       1, 1, 1, 1, 1, 1, 1, 1, 1, 1, 1, 1, 1, 1, 1, 1, 1, 1, 1, 1, 1, 1,\n",
      "       1, 1, 1, 1, 1, 1, 1, 1, 1, 1, 1, 1, 1, 1, 1, 1, 1, 1, 1, 1, 1, 1,\n",
      "       1, 1, 1, 1, 1, 1, 1, 1, 1, 1, 1, 1, 1, 1, 1, 1, 1, 1, 1, 1, 1, 1,\n",
      "       1, 1, 1, 1, 1, 1, 1, 1, 1, 1, 1, 1, 1, 1, 1, 1, 1, 1, 1, 1, 1, 1,\n",
      "       1, 1, 1, 1, 1, 1, 1, 1, 1, 1, 1, 1, 1, 1, 1, 1, 1, 1, 1, 1, 1, 1]))\n"
     ]
    }
   ],
   "source": [
    "import sys\n",
    "np.set_printoptions(threshold=sys.maxsize)\n",
    "print(np.unique(train['county_code'],return_counts = True))\n",
    "np.set_printoptions(threshold=1000)"
   ]
  },
  {
   "cell_type": "code",
   "execution_count": 17,
   "metadata": {},
   "outputs": [
    {
     "name": "stdout",
     "output_type": "stream",
     "text": [
      "(array(['08f8fb4', '09d8cd0', '0f8930b', '105e445', '158df01', '1646cf6',\n",
      "       '176f5f0', '1b0d913', '1dcfd4e', '20d32fc', '2b7da97', '3337bbb',\n",
      "       '3745933', '375d4d3', '4522abc', '485e9af', '4c72956', '4cd9667',\n",
      "       '5029ed4', '5086a32', '528ea9f', '52acab4', '64ffe5d', '698ab34',\n",
      "       '6d287d7', '7572db1', '78e8330', '7dd3518', '8036085', '842bd12',\n",
      "       '914c15f', '9d0874a', '9d1e27d', '9dda412', '9e0007d', '9e065a4',\n",
      "       'a952566', 'b44cfe6', 'b795815', 'bc77872', 'c3dbf0a', 'c479f0c',\n",
      "       'd233cec', 'dc9ae72', 'dfc21f3', 'e2f94fa', 'e74aca3', 'e899d7f',\n",
      "       'fa605d5', 'fb8cab1'], dtype=object), array([ 54,  47,  44,   4,  38,  27,  16, 131,  37,  56,   6,   6,  19,\n",
      "         2,  93,  25,  31,  20,   8,  28,  57,  31,  15,  21,   4,  40,\n",
      "        33,  18,  35,  26,   1,  39,  47,  39,  33,   1,  69,   6,  45,\n",
      "         7,  34,  56,  10,  50,   6,  44,  36,  31,   6,  30]))\n"
     ]
    }
   ],
   "source": [
    "print(np.unique(train['state'],return_counts = True))   "
   ]
  },
  {
   "cell_type": "code",
   "execution_count": 18,
   "metadata": {},
   "outputs": [
    {
     "name": "stdout",
     "output_type": "stream",
     "text": [
      "(array(['Metro - Counties in metro areas of 1 million population or more',\n",
      "       'Metro - Counties in metro areas of 250,000 to 1 million population',\n",
      "       'Metro - Counties in metro areas of fewer than 250,000 population',\n",
      "       'Nonmetro - Completely rural or less than 2,500 urban population, adjacent to a metro area',\n",
      "       'Nonmetro - Completely rural or less than 2,500 urban population, not adjacent to a metro area',\n",
      "       'Nonmetro - Urban population of 2,500 to 19,999, adjacent to a metro area',\n",
      "       'Nonmetro - Urban population of 2,500 to 19,999, not adjacent to a metro area',\n",
      "       'Nonmetro - Urban population of 20,000 or more, adjacent to a metro area',\n",
      "       'Nonmetro - Urban population of 20,000 or more, not adjacent to a metro area'],\n",
      "      dtype=object), array([219, 193, 165, 120, 215, 301, 206, 101,  42]))\n"
     ]
    }
   ],
   "source": [
    "print(np.unique(train['rucc'],return_counts = True))"
   ]
  },
  {
   "cell_type": "code",
   "execution_count": 19,
   "metadata": {},
   "outputs": [
    {
     "name": "stdout",
     "output_type": "stream",
     "text": [
      "(array(['Large-in a metro area with at least 1 million residents or more',\n",
      "       'Micropolitan adjacent to a large metro area',\n",
      "       'Micropolitan adjacent to a small metro area',\n",
      "       'Micropolitan not adjacent to a metro area',\n",
      "       'Noncore adjacent to a large metro area',\n",
      "       'Noncore adjacent to a small metro and does not contain a town of at least 2,500 residents',\n",
      "       'Noncore adjacent to a small metro with town of at least 2,500 residents',\n",
      "       'Noncore adjacent to micro area and contains a town of 2,500-19,999 residents',\n",
      "       'Noncore adjacent to micro area and does not contain a town of at least 2,500 residents',\n",
      "       'Noncore not adjacent to a metro/micro area and contains a town of 2,500  or more residents',\n",
      "       'Noncore not adjacent to a metro/micro area and does not contain a town of at least 2,500 residents',\n",
      "       'Small-in a metro area with fewer than 1 million residents'],\n",
      "      dtype=object), array([219,  64, 113, 131,  79,  88, 178,  86,  97,  63,  86, 358]))\n"
     ]
    }
   ],
   "source": [
    "print(np.unique(train['urban_influence'],return_counts = True))"
   ]
  },
  {
   "cell_type": "code",
   "execution_count": 20,
   "metadata": {},
   "outputs": [
    {
     "name": "stdout",
     "output_type": "stream",
     "text": [
      "(array(['Farm-dependent', 'Federal/State government-dependent',\n",
      "       'Manufacturing-dependent', 'Mining-dependent', 'Nonspecialized',\n",
      "       'Recreation'], dtype=object), array([217, 191, 244, 113, 631, 166]))\n"
     ]
    }
   ],
   "source": [
    "print(np.unique(train['economic_typology'],return_counts = True))"
   ]
  },
  {
   "cell_type": "code",
   "execution_count": 21,
   "metadata": {},
   "outputs": [
    {
     "name": "stdout",
     "output_type": "stream",
     "text": [
      "(1562, 77)\n",
      "[[0. 0. 0. ... 0. 0. 0.]\n",
      " [0. 0. 0. ... 0. 0. 1.]\n",
      " [0. 0. 0. ... 0. 0. 1.]\n",
      " ...\n",
      " [0. 0. 0. ... 0. 1. 0.]\n",
      " [0. 0. 0. ... 0. 0. 0.]\n",
      " [0. 0. 0. ... 0. 1. 0.]]\n"
     ]
    },
    {
     "name": "stderr",
     "output_type": "stream",
     "text": [
      "/home/nbuser/anaconda3_501/lib/python3.6/site-packages/sklearn/preprocessing/_encoders.py:371: FutureWarning: The handling of integer data will change in version 0.22. Currently, the categories are determined based on the range [0, max(values)], while in the future they will be determined based on the unique values.\n",
      "If you want the future behaviour and silence this warning, you can specify \"categories='auto'\".\n",
      "In case you used a LabelEncoder before this OneHotEncoder to convert the categories to integers, then you can now use the OneHotEncoder directly.\n",
      "  warnings.warn(msg, FutureWarning)\n",
      "/home/nbuser/anaconda3_501/lib/python3.6/site-packages/sklearn/preprocessing/_encoders.py:371: FutureWarning: The handling of integer data will change in version 0.22. Currently, the categories are determined based on the range [0, max(values)], while in the future they will be determined based on the unique values.\n",
      "If you want the future behaviour and silence this warning, you can specify \"categories='auto'\".\n",
      "In case you used a LabelEncoder before this OneHotEncoder to convert the categories to integers, then you can now use the OneHotEncoder directly.\n",
      "  warnings.warn(msg, FutureWarning)\n",
      "/home/nbuser/anaconda3_501/lib/python3.6/site-packages/sklearn/preprocessing/_encoders.py:371: FutureWarning: The handling of integer data will change in version 0.22. Currently, the categories are determined based on the range [0, max(values)], while in the future they will be determined based on the unique values.\n",
      "If you want the future behaviour and silence this warning, you can specify \"categories='auto'\".\n",
      "In case you used a LabelEncoder before this OneHotEncoder to convert the categories to integers, then you can now use the OneHotEncoder directly.\n",
      "  warnings.warn(msg, FutureWarning)\n",
      "/home/nbuser/anaconda3_501/lib/python3.6/site-packages/sklearn/preprocessing/_encoders.py:371: FutureWarning: The handling of integer data will change in version 0.22. Currently, the categories are determined based on the range [0, max(values)], while in the future they will be determined based on the unique values.\n",
      "If you want the future behaviour and silence this warning, you can specify \"categories='auto'\".\n",
      "In case you used a LabelEncoder before this OneHotEncoder to convert the categories to integers, then you can now use the OneHotEncoder directly.\n",
      "  warnings.warn(msg, FutureWarning)\n"
     ]
    }
   ],
   "source": [
    "FeaturesLabel= ''\n",
    "\n",
    "def encode_string(cat_features):\n",
    "    ## First encode the strings to numeric categories\n",
    "    enc = preprocessing.LabelEncoder()\n",
    "    enc.fit(cat_features)\n",
    "    enc_cat_features = enc.transform(cat_features)\n",
    "    ## Now, apply one hot encoding\n",
    "    ohe = preprocessing.OneHotEncoder()\n",
    "    encoded = ohe.fit(enc_cat_features.reshape(-1,1))\n",
    "    return encoded.transform(enc_cat_features.reshape(-1,1)).toarray()\n",
    "\n",
    "categorical_columns = ['rucc','urban_influence', 'economic_typology']\n",
    "\n",
    "FeaturesLabel = encode_string(train['state'])\n",
    "for col in categorical_columns:\n",
    "    temp = encode_string(train[col])\n",
    "    FeaturesLabel = np.concatenate([FeaturesLabel, temp], axis = 1)\n",
    "\n",
    "print(FeaturesLabel.shape)\n",
    "print(FeaturesLabel)   "
   ]
  },
  {
   "cell_type": "code",
   "execution_count": 22,
   "metadata": {},
   "outputs": [
    {
     "name": "stdout",
     "output_type": "stream",
     "text": [
      "(1562, 101)\n",
      "[[0.00000000e+00 0.00000000e+00 0.00000000e+00 0.00000000e+00\n",
      "  0.00000000e+00 0.00000000e+00 0.00000000e+00 0.00000000e+00\n",
      "  0.00000000e+00 0.00000000e+00 0.00000000e+00 0.00000000e+00\n",
      "  0.00000000e+00 0.00000000e+00 0.00000000e+00 0.00000000e+00\n",
      "  0.00000000e+00 0.00000000e+00 0.00000000e+00 0.00000000e+00\n",
      "  0.00000000e+00 0.00000000e+00 0.00000000e+00 0.00000000e+00\n",
      "  0.00000000e+00 0.00000000e+00 0.00000000e+00 0.00000000e+00\n",
      "  0.00000000e+00 0.00000000e+00 0.00000000e+00 0.00000000e+00\n",
      "  0.00000000e+00 0.00000000e+00 0.00000000e+00 0.00000000e+00\n",
      "  0.00000000e+00 0.00000000e+00 0.00000000e+00 0.00000000e+00\n",
      "  0.00000000e+00 0.00000000e+00 0.00000000e+00 0.00000000e+00\n",
      "  0.00000000e+00 0.00000000e+00 0.00000000e+00 0.00000000e+00\n",
      "  0.00000000e+00 1.00000000e+00 0.00000000e+00 0.00000000e+00\n",
      "  0.00000000e+00 0.00000000e+00 1.00000000e+00 0.00000000e+00\n",
      "  0.00000000e+00 0.00000000e+00 0.00000000e+00 0.00000000e+00\n",
      "  0.00000000e+00 0.00000000e+00 0.00000000e+00 0.00000000e+00\n",
      "  0.00000000e+00 0.00000000e+00 0.00000000e+00 1.00000000e+00\n",
      "  0.00000000e+00 0.00000000e+00 0.00000000e+00 0.00000000e+00\n",
      "  0.00000000e+00 1.00000000e+00 0.00000000e+00 0.00000000e+00\n",
      "  0.00000000e+00 2.18000000e-01 3.10000000e-01 5.68528122e-03\n",
      "  3.42000000e-01 1.83800000e+01 8.32497492e-02 5.63532268e-03\n",
      "  4.71000000e-01 3.97410526e+02 4.17200000e+00 1.07610683e-02\n",
      "  3.42182861e+03 1.99598796e-01 9.75234185e+00 0.00000000e+00\n",
      "  1.66000000e-01 4.08000000e+02 1.00089824e+01 1.10229077e+01\n",
      "  1.00000000e-01 0.00000000e+00 1.90000000e-01 3.27983952e-01\n",
      "  2.17151531e+01]\n",
      " [0.00000000e+00 0.00000000e+00 0.00000000e+00 0.00000000e+00\n",
      "  0.00000000e+00 0.00000000e+00 0.00000000e+00 0.00000000e+00\n",
      "  0.00000000e+00 0.00000000e+00 0.00000000e+00 0.00000000e+00\n",
      "  0.00000000e+00 0.00000000e+00 0.00000000e+00 0.00000000e+00\n",
      "  0.00000000e+00 0.00000000e+00 0.00000000e+00 0.00000000e+00\n",
      "  0.00000000e+00 0.00000000e+00 0.00000000e+00 0.00000000e+00\n",
      "  0.00000000e+00 0.00000000e+00 0.00000000e+00 0.00000000e+00\n",
      "  0.00000000e+00 1.00000000e+00 0.00000000e+00 0.00000000e+00\n",
      "  0.00000000e+00 0.00000000e+00 0.00000000e+00 0.00000000e+00\n",
      "  0.00000000e+00 0.00000000e+00 0.00000000e+00 0.00000000e+00\n",
      "  0.00000000e+00 0.00000000e+00 0.00000000e+00 0.00000000e+00\n",
      "  0.00000000e+00 0.00000000e+00 0.00000000e+00 0.00000000e+00\n",
      "  0.00000000e+00 0.00000000e+00 0.00000000e+00 0.00000000e+00\n",
      "  0.00000000e+00 0.00000000e+00 1.00000000e+00 0.00000000e+00\n",
      "  0.00000000e+00 0.00000000e+00 0.00000000e+00 0.00000000e+00\n",
      "  0.00000000e+00 0.00000000e+00 1.00000000e+00 0.00000000e+00\n",
      "  0.00000000e+00 0.00000000e+00 0.00000000e+00 0.00000000e+00\n",
      "  0.00000000e+00 0.00000000e+00 0.00000000e+00 0.00000000e+00\n",
      "  0.00000000e+00 0.00000000e+00 0.00000000e+00 0.00000000e+00\n",
      "  1.00000000e+00 2.90000000e-01 2.53000000e-01 1.80349879e-03\n",
      "  1.48000000e-01 2.66940000e+01 9.90990991e-02 1.49289622e-03\n",
      "  4.72000000e-01 3.00000000e+00 7.71400000e+00 2.28443180e-03\n",
      "  2.00900000e+03 3.96396396e-01 3.01321928e+00 0.00000000e+00\n",
      "  1.02000000e-01 1.16600000e+03 1.44828927e+01 9.90409859e+00\n",
      "  6.60000000e-02 0.00000000e+00 7.70000000e-02 2.02202202e-01\n",
      "  1.82600000e+01]]\n"
     ]
    }
   ],
   "source": [
    "Features = np.concatenate([FeaturesLabel, np.array(train[['pct_below_18_years_of_age','pct_adult_obesity',\n",
    "                         'pct_am_ind','pct_physical_inactivity','rent_burden','pct_adults_less_than_a_high_school_diploma',\n",
    "                         'pct_asian','pct_female','evictions','poverty_rate','pct_af_am','pop_per_dentist',\n",
    "                         'pct_adults_bachelors_or_higher','death_rate_per_1k','pct_nh_pi','pct_adult_smoking',\n",
    "                         'renter_occupied_households','birth_rate_per_1k','air_pollution_particulate_matter_value',\n",
    "                         'pct_diabetes','pct_other','pct_aged_65_years_and_older','pct_adults_with_high_school_diploma',\n",
    "                         'motor_vehicle_crash_deaths_per_100k']])], axis = 1)\n",
    "    \n",
    "print(Features.shape)\n",
    "print(Features[:2, :])   "
   ]
  },
  {
   "cell_type": "code",
   "execution_count": 23,
   "metadata": {},
   "outputs": [],
   "source": [
    "## Randomly sample cases to create independent training and test data\n",
    "nr.seed(9988)\n",
    "indx = range(Features.shape[0])\n",
    "indx = ms.train_test_split(indx, test_size = 150)\n",
    "\n",
    "X_train = Features[indx[0],:]\n",
    "y_train = np.ravel(labels[indx[0]])\n",
    "X_test = Features[indx[1],:]\n",
    "y_test = np.ravel(labels[indx[1]])"
   ]
  },
  {
   "cell_type": "code",
   "execution_count": 24,
   "metadata": {},
   "outputs": [
    {
     "data": {
      "text/plain": [
       "LinearRegression(copy_X=True, fit_intercept=False, n_jobs=None,\n",
       "         normalize=False)"
      ]
     },
     "execution_count": 24,
     "metadata": {},
     "output_type": "execute_result"
    }
   ],
   "source": [
    "## define and fit the linear regression model\n",
    "lin_mod = linear_model.LinearRegression(fit_intercept = False)\n",
    "lin_mod.fit(X_train, y_train)"
   ]
  },
  {
   "cell_type": "code",
   "execution_count": 25,
   "metadata": {},
   "outputs": [
    {
     "name": "stdout",
     "output_type": "stream",
     "text": [
      "0.0\n",
      "[ 3.16450227e+00  2.45963250e+01 -9.54110466e-01  1.29137287e+02\n",
      "  2.24562883e+01  8.21605270e+01  3.79998112e+01  3.35982407e+01\n",
      "  7.26327851e+01  4.28103756e+01  1.07547226e+02  1.66368855e+02\n",
      "  2.95195959e+01  8.37777772e+01  6.76770082e+01  5.95019968e+01\n",
      "  1.80817379e+02  3.09237589e+00 -8.88194082e-01  3.36329057e+01\n",
      "  5.64237428e+01  4.83842876e+00 -8.75240002e+01  8.19976854e+01\n",
      "  1.68293709e+01  1.57797776e+02 -7.83324630e+01  2.13306962e+02\n",
      " -3.40621593e+01 -4.25646235e+01  2.40413054e+02  6.69862756e+01\n",
      "  7.77277928e+01 -6.58400741e+01  5.00998651e+01  2.49780040e+02\n",
      "  1.61981513e+02  2.45210737e+02 -2.55390134e+01  1.54654550e+02\n",
      "  6.96196625e+01 -2.17016024e+01  4.62542879e+01 -3.91915855e+01\n",
      "  1.47623444e+02 -5.57961770e+01 -3.07545714e+01  5.11829939e+01\n",
      "  3.50330873e+01 -5.06846886e+01  3.26464592e+02  1.94366168e+02\n",
      "  1.90207204e+02  3.35731221e+02  3.21296378e+02  3.59969132e+02\n",
      "  3.38638827e+02  3.65294173e+02  3.42451572e+02  3.26464592e+02\n",
      "  2.54917863e+02  1.98953740e+02  2.24763468e+02  2.21031800e+02\n",
      "  1.91195010e+02  1.94896114e+02  1.96416841e+02  1.97577996e+02\n",
      "  1.75902174e+02  2.07726299e+02  3.84573371e+02  4.48229208e+02\n",
      "  4.44367800e+02  4.51825089e+02  4.74087642e+02  4.57667917e+02\n",
      "  4.98241612e+02  8.95359035e+02 -3.74479437e+02  1.05031699e+02\n",
      " -1.94392390e+02  4.23020318e+00 -2.68391973e+02  1.31137730e+03\n",
      " -6.70971288e+02 -1.00651644e-02 -8.10019923e+00  1.41999885e+02\n",
      "  9.53125303e-05  3.52364925e+02 -6.47879987e+00 -8.27382392e+02\n",
      "  1.71130261e+02  1.79492779e-04  4.14985623e+00 -1.11841335e+01\n",
      "  2.28471715e+01  3.01141950e+03  1.44815192e+02 -1.51533837e+02\n",
      " -6.79616572e-01]\n"
     ]
    }
   ],
   "source": [
    "print(lin_mod.intercept_)\n",
    "print(lin_mod.coef_)"
   ]
  },
  {
   "cell_type": "code",
   "execution_count": 26,
   "metadata": {},
   "outputs": [
    {
     "name": "stdout",
     "output_type": "stream",
     "text": [
      "Mean Square Error      = 6670.521036344456\n",
      "Root Mean Square Error = 81.67325777967018\n",
      "Mean Absolute Error    = 58.559805134013466\n",
      "Median Absolute Error  = 47.07788463730253\n",
      "R^2                    = 0.8037197860934054\n",
      "Adjusted R^2           = 0.7602807223599788\n"
     ]
    }
   ],
   "source": [
    "def print_metrics(y_true, y_predicted, n_parameters):\n",
    "    ## First compute R^2 and the adjusted R^2\n",
    "   #R^2=1−∑i(yi−y^i)2/∑i(yi−y¯)2\n",
    "    r2 = sklm.r2_score(y_true, y_predicted)\n",
    "   # r2_adj = r2 - (n_parameters - 1)/(y_true.shape[0] - n_parameters) * (1 - r2)\n",
    "    r2_adj = r2 - (n_parameters - 1)/(y_true.shape[0] - n_parameters) * (1 - r2)\n",
    "   \n",
    "    ## Print the usual metrics and the R^2 values\n",
    "    print('Mean Square Error      = ' + str(sklm.mean_squared_error(y_true, y_predicted)))\n",
    "    print('Root Mean Square Error = ' + str(math.sqrt(sklm.mean_squared_error(y_true, y_predicted))))\n",
    "    print('Mean Absolute Error    = ' + str(sklm.mean_absolute_error(y_true, y_predicted)))\n",
    "    print('Median Absolute Error  = ' + str(sklm.median_absolute_error(y_true, y_predicted)))\n",
    "    print('R^2                    = ' + str(r2))\n",
    "    print('Adjusted R^2           = ' + str(r2_adj))\n",
    "   \n",
    "y_score = lin_mod.predict(X_test) \n",
    "print_metrics(y_test, y_score, 28)    "
   ]
  },
  {
   "cell_type": "code",
   "execution_count": 27,
   "metadata": {},
   "outputs": [
    {
     "data": {
      "image/png": "[encoded data removed]",
      "text/plain": [
       "<Figure size 432x288 with 1 Axes>"
      ]
     },
     "metadata": {
      "needs_background": "light"
     },
     "output_type": "display_data"
    }
   ],
   "source": [
    "def resid_plot(y_test, y_score):\n",
    "    ## first compute vector of residuals. \n",
    "    resids = np.subtract(y_test.reshape(-1,1), y_score.reshape(-1,1))\n",
    "    ## now make the residual plots\n",
    "    sns.regplot(y_score, resids, fit_reg=False)\n",
    "    plt.title('Residuals vs. predicted values')\n",
    "    plt.xlabel('Predicted values')\n",
    "    plt.ylabel('Residual')\n",
    "\n",
    "resid_plot(y_test, y_score) "
   ]
  },
  {
   "cell_type": "code",
   "execution_count": 28,
   "metadata": {},
   "outputs": [
    {
     "data": {
      "image/png": "[encoded data removed]",
      "text/plain": [
       "<Figure size 432x288 with 1 Axes>"
      ]
     },
     "metadata": {
      "needs_background": "light"
     },
     "output_type": "display_data"
    }
   ],
   "source": [
    "import scipy.stats as ss\n",
    "\n",
    "def resid_qq(y_test, y_score):\n",
    "    ## first compute vector of residuals. \n",
    "    resids = np.subtract(y_test.reshape(-1,1), y_score.reshape(-1,1))\n",
    "    ## now make the residual plots\n",
    "    ss.probplot(resids.flatten(), plot = plt)\n",
    "    plt.title('Residuals vs. predicted values')\n",
    "    plt.xlabel('Predicted values')\n",
    "    plt.ylabel('Residual')\n",
    "    \n",
    "resid_qq(y_test, y_score)   "
   ]
  },
  {
   "cell_type": "code",
   "execution_count": 29,
   "metadata": {},
   "outputs": [
    {
     "name": "stderr",
     "output_type": "stream",
     "text": [
      "/home/nbuser/anaconda3_501/lib/python3.6/site-packages/ipykernel/__main__.py:1: RuntimeWarning: overflow encountered in exp\n",
      "  if __name__ == '__main__':\n",
      "/home/nbuser/anaconda3_501/lib/python3.6/site-packages/ipykernel/__main__.py:2: RuntimeWarning: overflow encountered in exp\n",
      "  from ipykernel import kernelapp as app\n",
      "/home/nbuser/anaconda3_501/lib/python3.6/site-packages/ipykernel/__main__.py:3: RuntimeWarning: invalid value encountered in subtract\n",
      "  app.launch_new_instance()\n",
      "/home/nbuser/anaconda3_501/lib/python3.6/site-packages/numpy/core/_methods.py:75: RuntimeWarning: invalid value encountered in reduce\n",
      "  ret = umr_sum(arr, axis, dtype, out, keepdims)\n"
     ]
    },
    {
     "data": {
      "image/png": "[encoded data removed]",
      "text/plain": [
       "<Figure size 432x288 with 1 Axes>"
      ]
     },
     "metadata": {
      "needs_background": "light"
     },
     "output_type": "display_data"
    }
   ],
   "source": [
    "y_score_untransform = np.exp(y_score)\n",
    "y_test_untransform = np.exp(y_test)\n",
    "resid_plot(y_test_untransform, y_score_untransform) "
   ]
  },
  {
   "cell_type": "code",
   "execution_count": 30,
   "metadata": {},
   "outputs": [
    {
     "data": {
      "text/html": [
       "<div>\n",
       "<style scoped>\n",
       "    .dataframe tbody tr th:only-of-type {\n",
       "        vertical-align: middle;\n",
       "    }\n",
       "\n",
       "    .dataframe tbody tr th {\n",
       "        vertical-align: top;\n",
       "    }\n",
       "\n",
       "    .dataframe thead th {\n",
       "        text-align: right;\n",
       "    }\n",
       "</style>\n",
       "<table border=\"1\" class=\"dataframe\">\n",
       "  <thead>\n",
       "    <tr style=\"text-align: right;\">\n",
       "      <th></th>\n",
       "      <th>row_id</th>\n",
       "      <th>gross_rent</th>\n",
       "    </tr>\n",
       "  </thead>\n",
       "  <tbody>\n",
       "    <tr>\n",
       "      <th>0</th>\n",
       "      <td>0</td>\n",
       "      <td>1</td>\n",
       "    </tr>\n",
       "    <tr>\n",
       "      <th>1</th>\n",
       "      <td>1</td>\n",
       "      <td>1</td>\n",
       "    </tr>\n",
       "    <tr>\n",
       "      <th>2</th>\n",
       "      <td>2</td>\n",
       "      <td>1</td>\n",
       "    </tr>\n",
       "    <tr>\n",
       "      <th>3</th>\n",
       "      <td>3</td>\n",
       "      <td>1</td>\n",
       "    </tr>\n",
       "    <tr>\n",
       "      <th>4</th>\n",
       "      <td>4</td>\n",
       "      <td>1</td>\n",
       "    </tr>\n",
       "  </tbody>\n",
       "</table>\n",
       "</div>"
      ],
      "text/plain": [
       "   row_id  gross_rent\n",
       "0       0           1\n",
       "1       1           1\n",
       "2       2           1\n",
       "3       3           1\n",
       "4       4           1"
      ]
     },
     "execution_count": 30,
     "metadata": {},
     "output_type": "execute_result"
    }
   ],
   "source": [
    "#using refined as raw feature file contains a unwanted state just for confusion with feature calculations. \n",
    "#to solve it, I replaced that state with a similar one.\n",
    "test_values = pd.read_csv('test_values_refined.csv')\n",
    "test_values.head(5)"
   ]
  },
  {
   "cell_type": "code",
   "execution_count": 31,
   "metadata": {},
   "outputs": [
    {
     "data": {
      "text/plain": [
       "row_id                                          0\n",
       "county_code                                     0\n",
       "state                                           0\n",
       "population                                      0\n",
       "renter_occupied_households                      0\n",
       "pct_renter_occupied                             0\n",
       "evictions                                     313\n",
       "rent_burden                                     0\n",
       "pct_white                                       0\n",
       "pct_af_am                                       0\n",
       "pct_hispanic                                    0\n",
       "pct_am_ind                                      0\n",
       "pct_asian                                       0\n",
       "pct_nh_pi                                       0\n",
       "pct_multiple                                    0\n",
       "pct_other                                       0\n",
       "poverty_rate                                    0\n",
       "rucc                                            0\n",
       "urban_influence                                 0\n",
       "economic_typology                               0\n",
       "pct_civilian_labor                              0\n",
       "pct_unemployment                                0\n",
       "pct_uninsured_adults                            3\n",
       "pct_uninsured_children                          3\n",
       "pct_adult_obesity                               3\n",
       "pct_adult_smoking                             215\n",
       "pct_diabetes                                    3\n",
       "pct_low_birthweight                           110\n",
       "pct_excessive_drinking                        457\n",
       "pct_physical_inactivity                         3\n",
       "air_pollution_particulate_matter_value         13\n",
       "homicides_per_100k                            939\n",
       "motor_vehicle_crash_deaths_per_100k           177\n",
       "heart_disease_mortality_per_100k                0\n",
       "pop_per_dentist                               106\n",
       "pop_per_primary_care_physician                 91\n",
       "pct_female                                      3\n",
       "pct_below_18_years_of_age                       3\n",
       "pct_aged_65_years_and_older                     3\n",
       "pct_adults_less_than_a_high_school_diploma      0\n",
       "pct_adults_with_high_school_diploma             0\n",
       "pct_adults_with_some_college                    0\n",
       "pct_adults_bachelors_or_higher                  0\n",
       "birth_rate_per_1k                               0\n",
       "death_rate_per_1k                               0\n",
       "dtype: int64"
      ]
     },
     "execution_count": 31,
     "metadata": {},
     "output_type": "execute_result"
    }
   ],
   "source": [
    "test_values.isnull().sum()"
   ]
  },
  {
   "cell_type": "code",
   "execution_count": 32,
   "metadata": {},
   "outputs": [
    {
     "name": "stdout",
     "output_type": "stream",
     "text": [
      "(array(['08f8fb4', '09d8cd0', '0f8930b', '105e445', '158df01', '1646cf6',\n",
      "       '176f5f0', '1b0d913', '1dcfd4e', '20d32fc', '2b7da97', '3337bbb',\n",
      "       '3745933', '375d4d3', '4522abc', '485e9af', '4c72956', '4cd9667',\n",
      "       '5029ed4', '5086a32', '528ea9f', '52acab4', '64ffe5d', '698ab34',\n",
      "       '6d287d7', '7572db1', '78e8330', '7dd3518', '8036085', '842bd12',\n",
      "       '914c15f', '9d0874a', '9d1e27d', '9dda412', '9e0007d', '9e065a4',\n",
      "       'a952566', 'b44cfe6', 'b795815', 'bc77872', 'c3dbf0a', 'c479f0c',\n",
      "       'd233cec', 'dc9ae72', 'dfc21f3', 'e2f94fa', 'e74aca3', 'e899d7f',\n",
      "       'fa605d5', 'fb8cab1'], dtype=object), array([ 61,  45,  39,   1,  50,  40,  20, 123,  27,  44,   8,   2,  20,\n",
      "         8,  66,  40,  27,  13,  15,  34,  63,  46,  14,  25,  11,  27,\n",
      "        32,  10,  21,  18,   3,  43,  48,  48,  42,   2,  64,  18,  48,\n",
      "        14,  21,  46,   6,  55,   8,  55,  36,  36,  10,  23]))\n",
      "(array(['Metro - Counties in metro areas of 1 million population or more',\n",
      "       'Metro - Counties in metro areas of 250,000 to 1 million population',\n",
      "       'Metro - Counties in metro areas of fewer than 250,000 population',\n",
      "       'Nonmetro - Completely rural or less than 2,500 urban population, adjacent to a metro area',\n",
      "       'Nonmetro - Completely rural or less than 2,500 urban population, not adjacent to a metro area',\n",
      "       'Nonmetro - Urban population of 2,500 to 19,999, adjacent to a metro area',\n",
      "       'Nonmetro - Urban population of 2,500 to 19,999, not adjacent to a metro area',\n",
      "       'Nonmetro - Urban population of 20,000 or more, adjacent to a metro area',\n",
      "       'Nonmetro - Urban population of 20,000 or more, not adjacent to a metro area'],\n",
      "      dtype=object), array([213, 184, 190, 100, 208, 291, 227, 113,  50]))\n",
      "(array(['Large-in a metro area with at least 1 million residents or more',\n",
      "       'Micropolitan adjacent to a large metro area',\n",
      "       'Micropolitan adjacent to a small metro area',\n",
      "       'Micropolitan not adjacent to a metro area',\n",
      "       'Noncore adjacent to a large metro area',\n",
      "       'Noncore adjacent to a small metro and does not contain a town of at least 2,500 residents',\n",
      "       'Noncore adjacent to a small metro with town of at least 2,500 residents',\n",
      "       'Noncore adjacent to micro area and contains a town of 2,500-19,999 residents',\n",
      "       'Noncore adjacent to micro area and does not contain a town of at least 2,500 residents',\n",
      "       'Noncore not adjacent to a metro/micro area and contains a town of 2,500  or more residents',\n",
      "       'Noncore not adjacent to a metro/micro area and does not contain a town of at least 2,500 residents',\n",
      "       'Small-in a metro area with fewer than 1 million residents'],\n",
      "      dtype=object), array([213,  66, 129, 138,  70,  74, 165,  98,  92,  62,  95, 374]))\n",
      "(array(['Farm-dependent', 'Federal/State government-dependent',\n",
      "       'Manufacturing-dependent', 'Mining-dependent', 'Nonspecialized',\n",
      "       'Recreation'], dtype=object), array([227, 213, 262, 106, 603, 165]))\n"
     ]
    }
   ],
   "source": [
    "print(np.unique(test_values['state'],return_counts = True))      \n",
    "print(np.unique(test_values['rucc'],return_counts = True))\n",
    "print(np.unique(test_values['urban_influence'],return_counts = True))\n",
    "print(np.unique(test_values['economic_typology'],return_counts = True))"
   ]
  },
  {
   "cell_type": "code",
   "execution_count": 33,
   "metadata": {},
   "outputs": [
    {
     "name": "stdout",
     "output_type": "stream",
     "text": [
      "There are 40 numerical variables. This includes boolean values\n",
      "There are 0 boolean variables\n",
      "There are 40 numerical variables\n",
      "[]\n",
      "There are 40 numerical variables\n"
     ]
    },
    {
     "data": {
      "text/plain": [
       "row_id                                        0\n",
       "county_code                                   0\n",
       "state                                         0\n",
       "population                                    0\n",
       "renter_occupied_households                    0\n",
       "pct_renter_occupied                           0\n",
       "evictions                                     0\n",
       "rent_burden                                   0\n",
       "pct_white                                     0\n",
       "pct_af_am                                     0\n",
       "pct_hispanic                                  0\n",
       "pct_am_ind                                    0\n",
       "pct_asian                                     0\n",
       "pct_nh_pi                                     0\n",
       "pct_multiple                                  0\n",
       "pct_other                                     0\n",
       "poverty_rate                                  0\n",
       "rucc                                          0\n",
       "urban_influence                               0\n",
       "economic_typology                             0\n",
       "pct_civilian_labor                            0\n",
       "pct_unemployment                              0\n",
       "pct_uninsured_adults                          0\n",
       "pct_uninsured_children                        0\n",
       "pct_adult_obesity                             0\n",
       "pct_adult_smoking                             0\n",
       "pct_diabetes                                  0\n",
       "pct_low_birthweight                           0\n",
       "pct_excessive_drinking                        0\n",
       "pct_physical_inactivity                       0\n",
       "air_pollution_particulate_matter_value        0\n",
       "homicides_per_100k                            0\n",
       "motor_vehicle_crash_deaths_per_100k           0\n",
       "heart_disease_mortality_per_100k              0\n",
       "pop_per_dentist                               0\n",
       "pop_per_primary_care_physician                0\n",
       "pct_female                                    0\n",
       "pct_below_18_years_of_age                     0\n",
       "pct_aged_65_years_and_older                   0\n",
       "pct_adults_less_than_a_high_school_diploma    0\n",
       "pct_adults_with_high_school_diploma           0\n",
       "pct_adults_with_some_college                  0\n",
       "pct_adults_bachelors_or_higher                0\n",
       "birth_rate_per_1k                             0\n",
       "death_rate_per_1k                             0\n",
       "dtype: int64"
      ]
     },
     "execution_count": 33,
     "metadata": {},
     "output_type": "execute_result"
    }
   ],
   "source": [
    "numerical_with_bool = [var for var in test_values.columns if test_values[var].dtype!='O']\n",
    "print('There are {} numerical variables. This includes boolean values'.format(len(numerical_with_bool)))\n",
    "\n",
    "boolean = [var for var in test_values.columns if test_values[var].dtype=='?']\n",
    "print('There are {} boolean variables'.format(len(boolean)))\n",
    "\n",
    "numerical = [var for var in test_values[numerical_with_bool] if var not in boolean]\n",
    "print('There are {} numerical variables'.format(len(numerical)))\n",
    "\n",
    "vars_num_removed =[var for var in test_values.columns if test_values[var].isnull().mean()> 0.6 and test_values[var].dtypes!='O']\n",
    "print(vars_num_removed)\n",
    "\n",
    "numerical = [var for var in test_values[numerical] if var not in vars_num_removed]\n",
    "print('There are {} numerical variables'.format(len(numerical)))\n",
    "\n",
    "# replace the missing values\n",
    "for var in numerical:\n",
    "    \n",
    "    # calculate the mode\n",
    "    mode_val = np.mean(test_values[var])\n",
    "    \n",
    "    # test \n",
    "    test_values[var].fillna(mode_val, inplace=True)\n",
    "    \n",
    "# check that we have no more missing values in the engineered variables\n",
    "test_values.isnull().sum()"
   ]
  },
  {
   "cell_type": "code",
   "execution_count": 34,
   "metadata": {},
   "outputs": [
    {
     "data": {
      "text/plain": [
       "[]"
      ]
     },
     "execution_count": 34,
     "metadata": {},
     "output_type": "execute_result"
    }
   ],
   "source": [
    "[var for var in test_values.columns if test_values[var].isnull().sum()>0]"
   ]
  },
  {
   "cell_type": "code",
   "execution_count": 35,
   "metadata": {},
   "outputs": [
    {
     "data": {
      "text/html": [
       "<div>\n",
       "<style scoped>\n",
       "    .dataframe tbody tr th:only-of-type {\n",
       "        vertical-align: middle;\n",
       "    }\n",
       "\n",
       "    .dataframe tbody tr th {\n",
       "        vertical-align: top;\n",
       "    }\n",
       "\n",
       "    .dataframe thead th {\n",
       "        text-align: right;\n",
       "    }\n",
       "</style>\n",
       "<table border=\"1\" class=\"dataframe\">\n",
       "  <thead>\n",
       "    <tr style=\"text-align: right;\">\n",
       "      <th></th>\n",
       "      <th>row_id</th>\n",
       "      <th>county_code</th>\n",
       "      <th>state</th>\n",
       "      <th>population</th>\n",
       "      <th>renter_occupied_households</th>\n",
       "      <th>pct_renter_occupied</th>\n",
       "      <th>evictions</th>\n",
       "      <th>rent_burden</th>\n",
       "      <th>pct_white</th>\n",
       "      <th>pct_af_am</th>\n",
       "      <th>...</th>\n",
       "      <th>pop_per_primary_care_physician</th>\n",
       "      <th>pct_female</th>\n",
       "      <th>pct_below_18_years_of_age</th>\n",
       "      <th>pct_aged_65_years_and_older</th>\n",
       "      <th>pct_adults_less_than_a_high_school_diploma</th>\n",
       "      <th>pct_adults_with_high_school_diploma</th>\n",
       "      <th>pct_adults_with_some_college</th>\n",
       "      <th>pct_adults_bachelors_or_higher</th>\n",
       "      <th>birth_rate_per_1k</th>\n",
       "      <th>death_rate_per_1k</th>\n",
       "    </tr>\n",
       "  </thead>\n",
       "  <tbody>\n",
       "    <tr>\n",
       "      <th>0</th>\n",
       "      <td>0</td>\n",
       "      <td>8e7613e</td>\n",
       "      <td>9d1e27d</td>\n",
       "      <td>52842.0</td>\n",
       "      <td>5403.0</td>\n",
       "      <td>26.840</td>\n",
       "      <td>330.127474</td>\n",
       "      <td>27.960</td>\n",
       "      <td>0.924234</td>\n",
       "      <td>0.025049</td>\n",
       "      <td>...</td>\n",
       "      <td>2710.0</td>\n",
       "      <td>0.512</td>\n",
       "      <td>0.215</td>\n",
       "      <td>0.177</td>\n",
       "      <td>0.174651</td>\n",
       "      <td>0.395210</td>\n",
       "      <td>0.274451</td>\n",
       "      <td>0.155689</td>\n",
       "      <td>9.828291</td>\n",
       "      <td>10.628268</td>\n",
       "    </tr>\n",
       "    <tr>\n",
       "      <th>1</th>\n",
       "      <td>1</td>\n",
       "      <td>694a5e8</td>\n",
       "      <td>a952566</td>\n",
       "      <td>212287.0</td>\n",
       "      <td>53502.0</td>\n",
       "      <td>57.534</td>\n",
       "      <td>6032.000000</td>\n",
       "      <td>33.072</td>\n",
       "      <td>0.398318</td>\n",
       "      <td>0.484635</td>\n",
       "      <td>...</td>\n",
       "      <td>1009.0</td>\n",
       "      <td>0.522</td>\n",
       "      <td>0.192</td>\n",
       "      <td>0.113</td>\n",
       "      <td>0.168327</td>\n",
       "      <td>0.230080</td>\n",
       "      <td>0.241036</td>\n",
       "      <td>0.360558</td>\n",
       "      <td>13.285546</td>\n",
       "      <td>8.818293</td>\n",
       "    </tr>\n",
       "    <tr>\n",
       "      <th>2</th>\n",
       "      <td>2</td>\n",
       "      <td>b3f0726</td>\n",
       "      <td>20d32fc</td>\n",
       "      <td>81263.0</td>\n",
       "      <td>13368.0</td>\n",
       "      <td>39.994</td>\n",
       "      <td>1012.000000</td>\n",
       "      <td>32.044</td>\n",
       "      <td>0.483789</td>\n",
       "      <td>0.381916</td>\n",
       "      <td>...</td>\n",
       "      <td>2459.0</td>\n",
       "      <td>0.526</td>\n",
       "      <td>0.240</td>\n",
       "      <td>0.153</td>\n",
       "      <td>0.201816</td>\n",
       "      <td>0.329970</td>\n",
       "      <td>0.287588</td>\n",
       "      <td>0.180626</td>\n",
       "      <td>11.571830</td>\n",
       "      <td>10.136089</td>\n",
       "    </tr>\n",
       "    <tr>\n",
       "      <th>3</th>\n",
       "      <td>3</td>\n",
       "      <td>fd922f0</td>\n",
       "      <td>1b0d913</td>\n",
       "      <td>122870.0</td>\n",
       "      <td>19359.0</td>\n",
       "      <td>41.865</td>\n",
       "      <td>330.127474</td>\n",
       "      <td>30.724</td>\n",
       "      <td>0.468043</td>\n",
       "      <td>0.088393</td>\n",
       "      <td>...</td>\n",
       "      <td>1240.0</td>\n",
       "      <td>0.491</td>\n",
       "      <td>0.282</td>\n",
       "      <td>0.111</td>\n",
       "      <td>0.239563</td>\n",
       "      <td>0.277336</td>\n",
       "      <td>0.333996</td>\n",
       "      <td>0.149105</td>\n",
       "      <td>17.191860</td>\n",
       "      <td>10.089273</td>\n",
       "    </tr>\n",
       "    <tr>\n",
       "      <th>4</th>\n",
       "      <td>4</td>\n",
       "      <td>3bd551e</td>\n",
       "      <td>698ab34</td>\n",
       "      <td>146153.0</td>\n",
       "      <td>15766.0</td>\n",
       "      <td>30.681</td>\n",
       "      <td>644.000000</td>\n",
       "      <td>30.860</td>\n",
       "      <td>0.651511</td>\n",
       "      <td>0.251317</td>\n",
       "      <td>...</td>\n",
       "      <td>2509.0</td>\n",
       "      <td>0.516</td>\n",
       "      <td>0.259</td>\n",
       "      <td>0.108</td>\n",
       "      <td>0.100100</td>\n",
       "      <td>0.289289</td>\n",
       "      <td>0.360360</td>\n",
       "      <td>0.250250</td>\n",
       "      <td>12.463880</td>\n",
       "      <td>6.432751</td>\n",
       "    </tr>\n",
       "  </tbody>\n",
       "</table>\n",
       "<p>5 rows × 45 columns</p>\n",
       "</div>"
      ],
      "text/plain": [
       "   row_id county_code    state  population  renter_occupied_households  \\\n",
       "0       0     8e7613e  9d1e27d     52842.0                      5403.0   \n",
       "1       1     694a5e8  a952566    212287.0                     53502.0   \n",
       "2       2     b3f0726  20d32fc     81263.0                     13368.0   \n",
       "3       3     fd922f0  1b0d913    122870.0                     19359.0   \n",
       "4       4     3bd551e  698ab34    146153.0                     15766.0   \n",
       "\n",
       "   pct_renter_occupied    evictions  rent_burden  pct_white  pct_af_am  \\\n",
       "0               26.840   330.127474       27.960   0.924234   0.025049   \n",
       "1               57.534  6032.000000       33.072   0.398318   0.484635   \n",
       "2               39.994  1012.000000       32.044   0.483789   0.381916   \n",
       "3               41.865   330.127474       30.724   0.468043   0.088393   \n",
       "4               30.681   644.000000       30.860   0.651511   0.251317   \n",
       "\n",
       "         ...         pop_per_primary_care_physician  pct_female  \\\n",
       "0        ...                                 2710.0       0.512   \n",
       "1        ...                                 1009.0       0.522   \n",
       "2        ...                                 2459.0       0.526   \n",
       "3        ...                                 1240.0       0.491   \n",
       "4        ...                                 2509.0       0.516   \n",
       "\n",
       "   pct_below_18_years_of_age  pct_aged_65_years_and_older  \\\n",
       "0                      0.215                        0.177   \n",
       "1                      0.192                        0.113   \n",
       "2                      0.240                        0.153   \n",
       "3                      0.282                        0.111   \n",
       "4                      0.259                        0.108   \n",
       "\n",
       "   pct_adults_less_than_a_high_school_diploma  \\\n",
       "0                                    0.174651   \n",
       "1                                    0.168327   \n",
       "2                                    0.201816   \n",
       "3                                    0.239563   \n",
       "4                                    0.100100   \n",
       "\n",
       "   pct_adults_with_high_school_diploma  pct_adults_with_some_college  \\\n",
       "0                             0.395210                      0.274451   \n",
       "1                             0.230080                      0.241036   \n",
       "2                             0.329970                      0.287588   \n",
       "3                             0.277336                      0.333996   \n",
       "4                             0.289289                      0.360360   \n",
       "\n",
       "  pct_adults_bachelors_or_higher birth_rate_per_1k death_rate_per_1k  \n",
       "0                       0.155689          9.828291         10.628268  \n",
       "1                       0.360558         13.285546          8.818293  \n",
       "2                       0.180626         11.571830         10.136089  \n",
       "3                       0.149105         17.191860         10.089273  \n",
       "4                       0.250250         12.463880          6.432751  \n",
       "\n",
       "[5 rows x 45 columns]"
      ]
     },
     "execution_count": 35,
     "metadata": {},
     "output_type": "execute_result"
    }
   ],
   "source": [
    "#X_train = X_train.replace([np.inf, -np.inf], np.nan).dropna(subset=[\"evictions\"], how=\"all\")\n",
    "test_values = test_values.replace([np.inf, -np.inf], np.nan) \n",
    "test_values['homicides_per_100k'] = test_values['homicides_per_100k'].fillna(np.mean(test_values['homicides_per_100k']))\n",
    "test_values.shape\n",
    "test_values.head(5)"
   ]
  },
  {
   "cell_type": "code",
   "execution_count": 36,
   "metadata": {},
   "outputs": [
    {
     "name": "stdout",
     "output_type": "stream",
     "text": [
      "(1576, 77)\n",
      "[[0. 0. 0. ... 0. 1. 0.]\n",
      " [0. 0. 0. ... 0. 0. 0.]\n",
      " [0. 0. 0. ... 0. 0. 0.]\n",
      " ...\n",
      " [0. 0. 0. ... 0. 0. 1.]\n",
      " [0. 0. 0. ... 1. 0. 0.]\n",
      " [0. 0. 0. ... 0. 0. 0.]]\n"
     ]
    },
    {
     "name": "stderr",
     "output_type": "stream",
     "text": [
      "/home/nbuser/anaconda3_501/lib/python3.6/site-packages/sklearn/preprocessing/_encoders.py:371: FutureWarning: The handling of integer data will change in version 0.22. Currently, the categories are determined based on the range [0, max(values)], while in the future they will be determined based on the unique values.\n",
      "If you want the future behaviour and silence this warning, you can specify \"categories='auto'\".\n",
      "In case you used a LabelEncoder before this OneHotEncoder to convert the categories to integers, then you can now use the OneHotEncoder directly.\n",
      "  warnings.warn(msg, FutureWarning)\n",
      "/home/nbuser/anaconda3_501/lib/python3.6/site-packages/sklearn/preprocessing/_encoders.py:371: FutureWarning: The handling of integer data will change in version 0.22. Currently, the categories are determined based on the range [0, max(values)], while in the future they will be determined based on the unique values.\n",
      "If you want the future behaviour and silence this warning, you can specify \"categories='auto'\".\n",
      "In case you used a LabelEncoder before this OneHotEncoder to convert the categories to integers, then you can now use the OneHotEncoder directly.\n",
      "  warnings.warn(msg, FutureWarning)\n",
      "/home/nbuser/anaconda3_501/lib/python3.6/site-packages/sklearn/preprocessing/_encoders.py:371: FutureWarning: The handling of integer data will change in version 0.22. Currently, the categories are determined based on the range [0, max(values)], while in the future they will be determined based on the unique values.\n",
      "If you want the future behaviour and silence this warning, you can specify \"categories='auto'\".\n",
      "In case you used a LabelEncoder before this OneHotEncoder to convert the categories to integers, then you can now use the OneHotEncoder directly.\n",
      "  warnings.warn(msg, FutureWarning)\n",
      "/home/nbuser/anaconda3_501/lib/python3.6/site-packages/sklearn/preprocessing/_encoders.py:371: FutureWarning: The handling of integer data will change in version 0.22. Currently, the categories are determined based on the range [0, max(values)], while in the future they will be determined based on the unique values.\n",
      "If you want the future behaviour and silence this warning, you can specify \"categories='auto'\".\n",
      "In case you used a LabelEncoder before this OneHotEncoder to convert the categories to integers, then you can now use the OneHotEncoder directly.\n",
      "  warnings.warn(msg, FutureWarning)\n"
     ]
    }
   ],
   "source": [
    "FeaturesTestLabel= ''\n",
    "\n",
    "def encode_string(cat_test_features):\n",
    "    ## First encode the strings to numeric categories\n",
    "    enc = preprocessing.LabelEncoder()\n",
    "    enc.fit(cat_test_features)\n",
    "    enc_cat_features = enc.transform(cat_test_features)\n",
    "    ## Now, apply one hot encoding\n",
    "    ohe = preprocessing.OneHotEncoder()\n",
    "    encoded = ohe.fit(enc_cat_features.reshape(-1,1))\n",
    "    return encoded.transform(enc_cat_features.reshape(-1,1)).toarray()\n",
    "\n",
    "categoricalTest_columns = ['rucc','urban_influence', 'economic_typology']\n",
    "\n",
    "FeaturesTestLabel = encode_string(test_values['state'])\n",
    "for col in categoricalTest_columns:\n",
    "    temp = encode_string(test_values[col])\n",
    "    FeaturesTestLabel = np.concatenate([FeaturesTestLabel, temp], axis = 1)\n",
    "\n",
    "print(FeaturesTestLabel.shape)\n",
    "print(FeaturesTestLabel)   "
   ]
  },
  {
   "cell_type": "code",
   "execution_count": 37,
   "metadata": {},
   "outputs": [
    {
     "name": "stdout",
     "output_type": "stream",
     "text": [
      "(1576, 101)\n",
      "[[0.00000000e+00 0.00000000e+00 0.00000000e+00 0.00000000e+00\n",
      "  0.00000000e+00 0.00000000e+00 0.00000000e+00 0.00000000e+00\n",
      "  0.00000000e+00 0.00000000e+00 0.00000000e+00 0.00000000e+00\n",
      "  0.00000000e+00 0.00000000e+00 0.00000000e+00 0.00000000e+00\n",
      "  0.00000000e+00 0.00000000e+00 0.00000000e+00 0.00000000e+00\n",
      "  0.00000000e+00 0.00000000e+00 0.00000000e+00 0.00000000e+00\n",
      "  0.00000000e+00 0.00000000e+00 0.00000000e+00 0.00000000e+00\n",
      "  0.00000000e+00 0.00000000e+00 0.00000000e+00 0.00000000e+00\n",
      "  1.00000000e+00 0.00000000e+00 0.00000000e+00 0.00000000e+00\n",
      "  0.00000000e+00 0.00000000e+00 0.00000000e+00 0.00000000e+00\n",
      "  0.00000000e+00 0.00000000e+00 0.00000000e+00 0.00000000e+00\n",
      "  0.00000000e+00 0.00000000e+00 0.00000000e+00 0.00000000e+00\n",
      "  0.00000000e+00 0.00000000e+00 0.00000000e+00 0.00000000e+00\n",
      "  1.00000000e+00 0.00000000e+00 0.00000000e+00 0.00000000e+00\n",
      "  0.00000000e+00 0.00000000e+00 0.00000000e+00 0.00000000e+00\n",
      "  0.00000000e+00 0.00000000e+00 0.00000000e+00 0.00000000e+00\n",
      "  0.00000000e+00 0.00000000e+00 0.00000000e+00 0.00000000e+00\n",
      "  0.00000000e+00 0.00000000e+00 1.00000000e+00 0.00000000e+00\n",
      "  0.00000000e+00 0.00000000e+00 0.00000000e+00 1.00000000e+00\n",
      "  0.00000000e+00 2.15000000e-01 2.84000000e-01 1.97833820e-03\n",
      "  3.32000000e-01 2.79600000e+01 1.74650699e-01 2.30806123e-03\n",
      "  5.12000000e-01 3.30127474e+02 1.14690000e+01 2.50489589e-02\n",
      "  4.88000000e+03 1.55688623e-01 1.06282678e+01 0.00000000e+00\n",
      "  2.57000000e-01 5.40300000e+03 9.82829062e+00 1.31940276e+01\n",
      "  1.14000000e-01 0.00000000e+00 1.77000000e-01 3.95209581e-01\n",
      "  1.98300000e+01]\n",
      " [0.00000000e+00 0.00000000e+00 0.00000000e+00 0.00000000e+00\n",
      "  0.00000000e+00 0.00000000e+00 0.00000000e+00 0.00000000e+00\n",
      "  0.00000000e+00 0.00000000e+00 0.00000000e+00 0.00000000e+00\n",
      "  0.00000000e+00 0.00000000e+00 0.00000000e+00 0.00000000e+00\n",
      "  0.00000000e+00 0.00000000e+00 0.00000000e+00 0.00000000e+00\n",
      "  0.00000000e+00 0.00000000e+00 0.00000000e+00 0.00000000e+00\n",
      "  0.00000000e+00 0.00000000e+00 0.00000000e+00 0.00000000e+00\n",
      "  0.00000000e+00 0.00000000e+00 0.00000000e+00 0.00000000e+00\n",
      "  0.00000000e+00 0.00000000e+00 0.00000000e+00 0.00000000e+00\n",
      "  1.00000000e+00 0.00000000e+00 0.00000000e+00 0.00000000e+00\n",
      "  0.00000000e+00 0.00000000e+00 0.00000000e+00 0.00000000e+00\n",
      "  0.00000000e+00 0.00000000e+00 0.00000000e+00 0.00000000e+00\n",
      "  0.00000000e+00 0.00000000e+00 1.00000000e+00 0.00000000e+00\n",
      "  0.00000000e+00 0.00000000e+00 0.00000000e+00 0.00000000e+00\n",
      "  0.00000000e+00 0.00000000e+00 0.00000000e+00 1.00000000e+00\n",
      "  0.00000000e+00 0.00000000e+00 0.00000000e+00 0.00000000e+00\n",
      "  0.00000000e+00 0.00000000e+00 0.00000000e+00 0.00000000e+00\n",
      "  0.00000000e+00 0.00000000e+00 0.00000000e+00 0.00000000e+00\n",
      "  1.00000000e+00 0.00000000e+00 0.00000000e+00 0.00000000e+00\n",
      "  0.00000000e+00 1.92000000e-01 2.82000000e-01 1.39365885e-03\n",
      "  2.52000000e-01 3.30720000e+01 1.68326693e-01 2.18008063e-02\n",
      "  5.22000000e-01 6.03200000e+03 1.91700000e+01 4.84634911e-01\n",
      "  8.50000000e+02 3.60557769e-01 8.81829296e+00 1.99094122e-04\n",
      "  1.87000000e-01 5.35020000e+04 1.32855463e+01 1.24194326e+01\n",
      "  9.70000000e-02 1.39365885e-03 1.13000000e-01 2.30079681e-01\n",
      "  1.08300000e+01]]\n"
     ]
    }
   ],
   "source": [
    "FeaturesTestFinal = np.concatenate([FeaturesTestLabel, np.array(test_values[['pct_below_18_years_of_age','pct_adult_obesity',\n",
    "                         'pct_am_ind','pct_physical_inactivity','rent_burden','pct_adults_less_than_a_high_school_diploma',\n",
    "                         'pct_asian','pct_female','evictions','poverty_rate','pct_af_am','pop_per_dentist',\n",
    "                         'pct_adults_bachelors_or_higher','death_rate_per_1k','pct_nh_pi','pct_adult_smoking',\n",
    "                         'renter_occupied_households','birth_rate_per_1k','air_pollution_particulate_matter_value',\n",
    "                         'pct_diabetes','pct_other','pct_aged_65_years_and_older','pct_adults_with_high_school_diploma',\n",
    "                         'motor_vehicle_crash_deaths_per_100k']])], axis = 1)\n",
    "\n",
    "print(FeaturesTestFinal.shape)\n",
    "print(FeaturesTestFinal[:2, :])   "
   ]
  },
  {
   "cell_type": "code",
   "execution_count": 38,
   "metadata": {},
   "outputs": [],
   "source": [
    "outputPrediction=lin_mod.predict(FeaturesTestFinal)"
   ]
  },
  {
   "cell_type": "code",
   "execution_count": 39,
   "metadata": {},
   "outputs": [
    {
     "name": "stdout",
     "output_type": "stream",
     "text": [
      "   row_id  gross_rent\n",
      "0       0         649\n",
      "1       1         910\n",
      "2       2         690\n",
      "3       3         743\n",
      "4       4         876\n"
     ]
    }
   ],
   "source": [
    "outputData = { \"row_id\":test_values['row_id'].astype(int) , \"gross_rent\": outputPrediction.astype(int)}\n",
    "outputData = pd.DataFrame(data=outputData)\n",
    "outputData.to_csv(\"predictingcounty_final.csv.csv\",sep=',',columns=[\"row_id\",\"gross_rent\"], encoding='utf-8', index=False)\n",
    "\n",
    "print(outputData[['row_id','gross_rent']].head(5))"
   ]
  },
  {
   "cell_type": "code",
   "execution_count": null,
   "metadata": {},
   "outputs": [],
   "source": []
  }
 ],
 "metadata": {
  "kernelspec": {
   "display_name": "Python 3.6",
   "language": "python",
   "name": "python36"
  },
  "language_info": {
   "codemirror_mode": {
    "name": "ipython",
    "version": 3
   },
   "file_extension": ".py",
   "mimetype": "text/x-python",
   "name": "python",
   "nbconvert_exporter": "python",
   "pygments_lexer": "ipython3",
   "version": "3.6.6"
  }
 },
 "nbformat": 4,
 "nbformat_minor": 2
}
